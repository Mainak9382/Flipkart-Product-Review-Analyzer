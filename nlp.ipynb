{
 "cells": [
  {
   "cell_type": "markdown",
   "id": "8b3060fc",
   "metadata": {},
   "source": [
    "# Flipkart Product Review Analyzer \n",
    "\n",
    "### A project based on Natural Language processing"
   ]
  },
  {
   "cell_type": "markdown",
   "id": "2b606306",
   "metadata": {},
   "source": [
    "### In the world of Internet shopping, customer feedback plays an important role in making decisions about purchasing a product. By understanding the sentiments expressed in product reviews we can get valuable insights about customer satisfaction and product performance. If a product has a lot of reviews, then it will be very difficult for us to judge all the reviews whether it is good or bad. Sentiment analysis performs this task by processing this review and classifies or clusters them depending upon the requirements of the users. This analysis is comparable to that of subjectivity classification, which intends to separate the sentences based on precise information from the sentences and expresses them as subjective views. To address this need, we are presenting the \"Flipkart Product Review Analyzer.\"\n",
    "### The Flipkart Product Review Analyzer is an innovative tool that will analyze customer reviews for products listed on Flipkart, one of India's leading e-commerce platforms. with the help of Machine Learning algorithms, it will classify all the reviews corresponding to a product whether it is a good review or bad review. Finally, it will provide a clear idea of how many percent of the total reviewers are giving positive responses and how many of them are giving negative responses.\n",
    "\n",
    "### How It Works:\n",
    "### The use of Flipkart Product Review Analyzer is easy. You just need to give it the web link of a product on Flipkart, and it will check all the reviews. Then, it will classify the reviews based on the sentiment of the user whether it is a good or bad review with the help of some popular ML algorithms. Finally, the percentage of good and bad reviews will be shown in a pie chart and the words that are mostly used by reviewers will be shown through a word cloud.\n",
    "\n",
    "### In short, the Flipkart Product Review Analyzer is a handy tool for understanding what people think about products on Flipkart. Whether you are a shopper looking for the best buys or a company wanting to improve, this tool gives you the information you need in a simple way.\n"
   ]
  },
  {
   "cell_type": "markdown",
   "id": "c3453779",
   "metadata": {},
   "source": [
    "The whole code of the project with description is as follows:\n"
   ]
  },
  {
   "cell_type": "markdown",
   "id": "385e2694",
   "metadata": {},
   "source": [
    "# importing required libraries"
   ]
  },
  {
   "cell_type": "code",
   "execution_count": 1,
   "id": "8c7ee438",
   "metadata": {},
   "outputs": [],
   "source": [
    "import numpy as np\n",
    "import pandas as pd\n",
    "import matplotlib.pyplot as plt\n",
    "from nltk.corpus import stopwords\n",
    "from sklearn import naive_bayes"
   ]
  },
  {
   "cell_type": "markdown",
   "id": "4d3b5511",
   "metadata": {},
   "source": [
    "# Importing the dataset"
   ]
  },
  {
   "cell_type": "code",
   "execution_count": 2,
   "id": "bb8ae1e3",
   "metadata": {},
   "outputs": [
    {
     "name": "stderr",
     "output_type": "stream",
     "text": [
      "C:\\Users\\MAINAK BANERJEE\\AppData\\Local\\Temp\\ipykernel_9288\\718129603.py:1: DtypeWarning: Columns (2) have mixed types. Specify dtype option on import or set low_memory=False.\n",
      "  data=pd.read_csv('Dataset.csv',encoding='unicode_escape')\n"
     ]
    }
   ],
   "source": [
    "data=pd.read_csv('Dataset.csv',encoding='unicode_escape')"
   ]
  },
  {
   "cell_type": "markdown",
   "id": "cb0b60b0",
   "metadata": {},
   "source": [
    "## Preview of the raw data"
   ]
  },
  {
   "cell_type": "code",
   "execution_count": 3,
   "id": "f5d088cf",
   "metadata": {},
   "outputs": [
    {
     "data": {
      "text/html": [
       "<div>\n",
       "<style scoped>\n",
       "    .dataframe tbody tr th:only-of-type {\n",
       "        vertical-align: middle;\n",
       "    }\n",
       "\n",
       "    .dataframe tbody tr th {\n",
       "        vertical-align: top;\n",
       "    }\n",
       "\n",
       "    .dataframe thead th {\n",
       "        text-align: right;\n",
       "    }\n",
       "</style>\n",
       "<table border=\"1\" class=\"dataframe\">\n",
       "  <thead>\n",
       "    <tr style=\"text-align: right;\">\n",
       "      <th></th>\n",
       "      <th>Product_name</th>\n",
       "      <th>Price</th>\n",
       "      <th>Rate</th>\n",
       "      <th>Review</th>\n",
       "      <th>Summary</th>\n",
       "    </tr>\n",
       "  </thead>\n",
       "  <tbody>\n",
       "    <tr>\n",
       "      <th>0</th>\n",
       "      <td>Crompton 75 L Desert Air Cooler??(White, Tea...</td>\n",
       "      <td>??10,499</td>\n",
       "      <td>5</td>\n",
       "      <td>Simply awesome</td>\n",
       "      <td>it's really worth every single penny. it works...</td>\n",
       "    </tr>\n",
       "    <tr>\n",
       "      <th>1</th>\n",
       "      <td>Crompton 75 L Desert Air Cooler??(White, Tea...</td>\n",
       "      <td>??10,499</td>\n",
       "      <td>4</td>\n",
       "      <td>Worth the money . Desert Cooler live up to the...</td>\n",
       "      <td>I bought Crompton Ozone 75 Desert Air Cooler i...</td>\n",
       "    </tr>\n",
       "    <tr>\n",
       "      <th>2</th>\n",
       "      <td>Crompton 75 L Desert Air Cooler??(White, Tea...</td>\n",
       "      <td>??10,499</td>\n",
       "      <td>5</td>\n",
       "      <td>Worth every penny</td>\n",
       "      <td>GREAT packaging by seller. As this was the mos...</td>\n",
       "    </tr>\n",
       "    <tr>\n",
       "      <th>3</th>\n",
       "      <td>Crompton 75 L Desert Air Cooler??(White, Tea...</td>\n",
       "      <td>??10,499</td>\n",
       "      <td>5</td>\n",
       "      <td>Fabulous!</td>\n",
       "      <td>Delivery was delayed by two days except this e...</td>\n",
       "    </tr>\n",
       "    <tr>\n",
       "      <th>4</th>\n",
       "      <td>Crompton 75 L Desert Air Cooler??(White, Tea...</td>\n",
       "      <td>??10,499</td>\n",
       "      <td>4</td>\n",
       "      <td>Nice product</td>\n",
       "      <td>A Good cooler by Crompton. The height of the c...</td>\n",
       "    </tr>\n",
       "  </tbody>\n",
       "</table>\n",
       "</div>"
      ],
      "text/plain": [
       "                                        Product_name      Price Rate  \\\n",
       "0  Crompton 75 L Desert Air Cooler??(White, Tea...  ??10,499    5   \n",
       "1  Crompton 75 L Desert Air Cooler??(White, Tea...  ??10,499    4   \n",
       "2  Crompton 75 L Desert Air Cooler??(White, Tea...  ??10,499    5   \n",
       "3  Crompton 75 L Desert Air Cooler??(White, Tea...  ??10,499    5   \n",
       "4  Crompton 75 L Desert Air Cooler??(White, Tea...  ??10,499    4   \n",
       "\n",
       "                                              Review  \\\n",
       "0                                     Simply awesome   \n",
       "1  Worth the money . Desert Cooler live up to the...   \n",
       "2                                  Worth every penny   \n",
       "3                                          Fabulous!   \n",
       "4                                       Nice product   \n",
       "\n",
       "                                             Summary  \n",
       "0  it's really worth every single penny. it works...  \n",
       "1  I bought Crompton Ozone 75 Desert Air Cooler i...  \n",
       "2  GREAT packaging by seller. As this was the mos...  \n",
       "3  Delivery was delayed by two days except this e...  \n",
       "4  A Good cooler by Crompton. The height of the c...  "
      ]
     },
     "execution_count": 3,
     "metadata": {},
     "output_type": "execute_result"
    }
   ],
   "source": [
    "data.head()"
   ]
  },
  {
   "cell_type": "markdown",
   "id": "c7d5da33",
   "metadata": {},
   "source": [
    "## The only required columns are Rate, Review, Summary"
   ]
  },
  {
   "cell_type": "markdown",
   "id": "20e45561",
   "metadata": {},
   "source": [
    "### dropping the remaining columns\n"
   ]
  },
  {
   "cell_type": "code",
   "execution_count": 4,
   "id": "d26e1fa7",
   "metadata": {},
   "outputs": [],
   "source": [
    "data.drop([\"Product_name\",\"Price\"],axis=1,inplace=True)"
   ]
  },
  {
   "cell_type": "code",
   "execution_count": 5,
   "id": "c8d4c3c0",
   "metadata": {},
   "outputs": [
    {
     "data": {
      "text/html": [
       "<div>\n",
       "<style scoped>\n",
       "    .dataframe tbody tr th:only-of-type {\n",
       "        vertical-align: middle;\n",
       "    }\n",
       "\n",
       "    .dataframe tbody tr th {\n",
       "        vertical-align: top;\n",
       "    }\n",
       "\n",
       "    .dataframe thead th {\n",
       "        text-align: right;\n",
       "    }\n",
       "</style>\n",
       "<table border=\"1\" class=\"dataframe\">\n",
       "  <thead>\n",
       "    <tr style=\"text-align: right;\">\n",
       "      <th></th>\n",
       "      <th>Rate</th>\n",
       "      <th>Review</th>\n",
       "      <th>Summary</th>\n",
       "    </tr>\n",
       "  </thead>\n",
       "  <tbody>\n",
       "    <tr>\n",
       "      <th>0</th>\n",
       "      <td>5</td>\n",
       "      <td>Simply awesome</td>\n",
       "      <td>it's really worth every single penny. it works...</td>\n",
       "    </tr>\n",
       "    <tr>\n",
       "      <th>1</th>\n",
       "      <td>4</td>\n",
       "      <td>Worth the money . Desert Cooler live up to the...</td>\n",
       "      <td>I bought Crompton Ozone 75 Desert Air Cooler i...</td>\n",
       "    </tr>\n",
       "    <tr>\n",
       "      <th>2</th>\n",
       "      <td>5</td>\n",
       "      <td>Worth every penny</td>\n",
       "      <td>GREAT packaging by seller. As this was the mos...</td>\n",
       "    </tr>\n",
       "    <tr>\n",
       "      <th>3</th>\n",
       "      <td>5</td>\n",
       "      <td>Fabulous!</td>\n",
       "      <td>Delivery was delayed by two days except this e...</td>\n",
       "    </tr>\n",
       "    <tr>\n",
       "      <th>4</th>\n",
       "      <td>4</td>\n",
       "      <td>Nice product</td>\n",
       "      <td>A Good cooler by Crompton. The height of the c...</td>\n",
       "    </tr>\n",
       "  </tbody>\n",
       "</table>\n",
       "</div>"
      ],
      "text/plain": [
       "  Rate                                             Review  \\\n",
       "0    5                                     Simply awesome   \n",
       "1    4  Worth the money . Desert Cooler live up to the...   \n",
       "2    5                                  Worth every penny   \n",
       "3    5                                          Fabulous!   \n",
       "4    4                                       Nice product   \n",
       "\n",
       "                                             Summary  \n",
       "0  it's really worth every single penny. it works...  \n",
       "1  I bought Crompton Ozone 75 Desert Air Cooler i...  \n",
       "2  GREAT packaging by seller. As this was the mos...  \n",
       "3  Delivery was delayed by two days except this e...  \n",
       "4  A Good cooler by Crompton. The height of the c...  "
      ]
     },
     "execution_count": 5,
     "metadata": {},
     "output_type": "execute_result"
    }
   ],
   "source": [
    "data.head()"
   ]
  },
  {
   "cell_type": "markdown",
   "id": "5efaabe3",
   "metadata": {},
   "source": [
    "# Extracting Basic info"
   ]
  },
  {
   "cell_type": "code",
   "execution_count": 6,
   "id": "30e0710a",
   "metadata": {},
   "outputs": [
    {
     "data": {
      "text/plain": [
       "(363261, 3)"
      ]
     },
     "execution_count": 6,
     "metadata": {},
     "output_type": "execute_result"
    }
   ],
   "source": [
    "data.shape"
   ]
  },
  {
   "cell_type": "code",
   "execution_count": 7,
   "id": "9f4feced",
   "metadata": {},
   "outputs": [
    {
     "data": {
      "text/plain": [
       "Rate         16\n",
       "Review       22\n",
       "Summary    2022\n",
       "dtype: int64"
      ]
     },
     "execution_count": 7,
     "metadata": {},
     "output_type": "execute_result"
    }
   ],
   "source": [
    "# Finding the number of null values in each column \n",
    "data.isnull().sum()\n"
   ]
  },
  {
   "cell_type": "code",
   "execution_count": 8,
   "id": "746d6af0",
   "metadata": {},
   "outputs": [
    {
     "data": {
      "text/plain": [
       "157848"
      ]
     },
     "execution_count": 8,
     "metadata": {},
     "output_type": "execute_result"
    }
   ],
   "source": [
    "data.duplicated().sum()"
   ]
  },
  {
   "cell_type": "markdown",
   "id": "af1db4f1",
   "metadata": {},
   "source": [
    "## dealing with duplicate values "
   ]
  },
  {
   "cell_type": "code",
   "execution_count": 9,
   "id": "8ce1c026",
   "metadata": {},
   "outputs": [],
   "source": [
    "data.drop_duplicates(keep='first',inplace=True)"
   ]
  },
  {
   "cell_type": "code",
   "execution_count": 10,
   "id": "e25a7493",
   "metadata": {},
   "outputs": [
    {
     "data": {
      "text/plain": [
       "0"
      ]
     },
     "execution_count": 10,
     "metadata": {},
     "output_type": "execute_result"
    }
   ],
   "source": [
    "data.duplicated().sum()"
   ]
  },
  {
   "cell_type": "code",
   "execution_count": 11,
   "id": "0ac24390",
   "metadata": {},
   "outputs": [
    {
     "data": {
      "text/plain": [
       "(205413, 3)"
      ]
     },
     "execution_count": 11,
     "metadata": {},
     "output_type": "execute_result"
    }
   ],
   "source": [
    "data.shape"
   ]
  },
  {
   "cell_type": "markdown",
   "id": "91ee49fc",
   "metadata": {},
   "source": [
    "### Droping the null values in the respective columns"
   ]
  },
  {
   "cell_type": "code",
   "execution_count": 12,
   "id": "c230bd6a",
   "metadata": {},
   "outputs": [],
   "source": [
    "data.dropna(subset=['Summary'],inplace=True)"
   ]
  },
  {
   "cell_type": "code",
   "execution_count": 13,
   "id": "61475390",
   "metadata": {},
   "outputs": [
    {
     "data": {
      "text/plain": [
       "Rate       0\n",
       "Review     4\n",
       "Summary    0\n",
       "dtype: int64"
      ]
     },
     "execution_count": 13,
     "metadata": {},
     "output_type": "execute_result"
    }
   ],
   "source": [
    "data.isnull().sum()"
   ]
  },
  {
   "cell_type": "code",
   "execution_count": 14,
   "id": "360d7b31",
   "metadata": {},
   "outputs": [],
   "source": [
    "data.dropna(subset=['Review'],inplace=True)"
   ]
  },
  {
   "cell_type": "code",
   "execution_count": 15,
   "id": "96b1c443",
   "metadata": {},
   "outputs": [
    {
     "data": {
      "text/plain": [
       "Rate       0\n",
       "Review     0\n",
       "Summary    0\n",
       "dtype: int64"
      ]
     },
     "execution_count": 15,
     "metadata": {},
     "output_type": "execute_result"
    }
   ],
   "source": [
    "data.isnull().sum()"
   ]
  },
  {
   "cell_type": "code",
   "execution_count": 16,
   "id": "fb9b79ea",
   "metadata": {},
   "outputs": [
    {
     "data": {
      "text/html": [
       "<div>\n",
       "<style scoped>\n",
       "    .dataframe tbody tr th:only-of-type {\n",
       "        vertical-align: middle;\n",
       "    }\n",
       "\n",
       "    .dataframe tbody tr th {\n",
       "        vertical-align: top;\n",
       "    }\n",
       "\n",
       "    .dataframe thead th {\n",
       "        text-align: right;\n",
       "    }\n",
       "</style>\n",
       "<table border=\"1\" class=\"dataframe\">\n",
       "  <thead>\n",
       "    <tr style=\"text-align: right;\">\n",
       "      <th></th>\n",
       "      <th>Rate</th>\n",
       "      <th>Review</th>\n",
       "      <th>Summary</th>\n",
       "    </tr>\n",
       "  </thead>\n",
       "  <tbody>\n",
       "    <tr>\n",
       "      <th>0</th>\n",
       "      <td>5</td>\n",
       "      <td>Simply awesome</td>\n",
       "      <td>it's really worth every single penny. it works...</td>\n",
       "    </tr>\n",
       "    <tr>\n",
       "      <th>1</th>\n",
       "      <td>4</td>\n",
       "      <td>Worth the money . Desert Cooler live up to the...</td>\n",
       "      <td>I bought Crompton Ozone 75 Desert Air Cooler i...</td>\n",
       "    </tr>\n",
       "    <tr>\n",
       "      <th>2</th>\n",
       "      <td>5</td>\n",
       "      <td>Worth every penny</td>\n",
       "      <td>GREAT packaging by seller. As this was the mos...</td>\n",
       "    </tr>\n",
       "    <tr>\n",
       "      <th>3</th>\n",
       "      <td>5</td>\n",
       "      <td>Fabulous!</td>\n",
       "      <td>Delivery was delayed by two days except this e...</td>\n",
       "    </tr>\n",
       "    <tr>\n",
       "      <th>4</th>\n",
       "      <td>4</td>\n",
       "      <td>Nice product</td>\n",
       "      <td>A Good cooler by Crompton. The height of the c...</td>\n",
       "    </tr>\n",
       "  </tbody>\n",
       "</table>\n",
       "</div>"
      ],
      "text/plain": [
       "  Rate                                             Review  \\\n",
       "0    5                                     Simply awesome   \n",
       "1    4  Worth the money . Desert Cooler live up to the...   \n",
       "2    5                                  Worth every penny   \n",
       "3    5                                          Fabulous!   \n",
       "4    4                                       Nice product   \n",
       "\n",
       "                                             Summary  \n",
       "0  it's really worth every single penny. it works...  \n",
       "1  I bought Crompton Ozone 75 Desert Air Cooler i...  \n",
       "2  GREAT packaging by seller. As this was the mos...  \n",
       "3  Delivery was delayed by two days except this e...  \n",
       "4  A Good cooler by Crompton. The height of the c...  "
      ]
     },
     "execution_count": 16,
     "metadata": {},
     "output_type": "execute_result"
    }
   ],
   "source": [
    "data.head()"
   ]
  },
  {
   "cell_type": "markdown",
   "id": "d126439b",
   "metadata": {},
   "source": [
    "## data types of the columns "
   ]
  },
  {
   "cell_type": "code",
   "execution_count": 17,
   "id": "a95ccd3a",
   "metadata": {},
   "outputs": [
    {
     "name": "stdout",
     "output_type": "stream",
     "text": [
      "<class 'pandas.core.frame.DataFrame'>\n",
      "Int64Index: 204195 entries, 0 to 363254\n",
      "Data columns (total 3 columns):\n",
      " #   Column   Non-Null Count   Dtype \n",
      "---  ------   --------------   ----- \n",
      " 0   Rate     204195 non-null  object\n",
      " 1   Review   204195 non-null  object\n",
      " 2   Summary  204195 non-null  object\n",
      "dtypes: object(3)\n",
      "memory usage: 6.2+ MB\n"
     ]
    }
   ],
   "source": [
    "data.info()"
   ]
  },
  {
   "cell_type": "markdown",
   "id": "d5f0935d",
   "metadata": {},
   "source": [
    "# We have the make the Rating column as integer because in future we have to apply condition on the rating column for creating new column \"sentiment\""
   ]
  },
  {
   "cell_type": "markdown",
   "id": "4cfeb56e",
   "metadata": {},
   "source": [
    "### Removing those rows in which the corresponding \"Rate\" values are not Numeric"
   ]
  },
  {
   "cell_type": "code",
   "execution_count": 18,
   "id": "275a50f1",
   "metadata": {},
   "outputs": [],
   "source": [
    "for index,row in data.iterrows():\n",
    "    try:\n",
    "        pd.to_numeric(row['Rate'])\n",
    "    except:\n",
    "        data.drop(index, inplace=True)\n",
    "        "
   ]
  },
  {
   "cell_type": "code",
   "execution_count": 19,
   "id": "3ebe66f4",
   "metadata": {},
   "outputs": [
    {
     "name": "stdout",
     "output_type": "stream",
     "text": [
      "<class 'pandas.core.frame.DataFrame'>\n",
      "Int64Index: 204191 entries, 0 to 363254\n",
      "Data columns (total 3 columns):\n",
      " #   Column   Non-Null Count   Dtype \n",
      "---  ------   --------------   ----- \n",
      " 0   Rate     204191 non-null  object\n",
      " 1   Review   204191 non-null  object\n",
      " 2   Summary  204191 non-null  object\n",
      "dtypes: object(3)\n",
      "memory usage: 6.2+ MB\n"
     ]
    }
   ],
   "source": [
    "data.info()"
   ]
  },
  {
   "cell_type": "code",
   "execution_count": 20,
   "id": "b3b4180c",
   "metadata": {},
   "outputs": [],
   "source": [
    "data['Rate'] = data['Rate'].astype(int)"
   ]
  },
  {
   "cell_type": "code",
   "execution_count": 21,
   "id": "590b9d19",
   "metadata": {},
   "outputs": [
    {
     "name": "stdout",
     "output_type": "stream",
     "text": [
      "<class 'pandas.core.frame.DataFrame'>\n",
      "Int64Index: 204191 entries, 0 to 363254\n",
      "Data columns (total 3 columns):\n",
      " #   Column   Non-Null Count   Dtype \n",
      "---  ------   --------------   ----- \n",
      " 0   Rate     204191 non-null  int32 \n",
      " 1   Review   204191 non-null  object\n",
      " 2   Summary  204191 non-null  object\n",
      "dtypes: int32(1), object(2)\n",
      "memory usage: 5.5+ MB\n"
     ]
    }
   ],
   "source": [
    "data.info()"
   ]
  },
  {
   "cell_type": "code",
   "execution_count": 22,
   "id": "77e35852",
   "metadata": {},
   "outputs": [
    {
     "data": {
      "text/plain": [
       "(204191, 3)"
      ]
     },
     "execution_count": 22,
     "metadata": {},
     "output_type": "execute_result"
    }
   ],
   "source": [
    "data.shape"
   ]
  },
  {
   "cell_type": "markdown",
   "id": "e5ed79c2",
   "metadata": {},
   "source": [
    "The problem is solved now "
   ]
  },
  {
   "cell_type": "markdown",
   "id": "de36e4e8",
   "metadata": {},
   "source": [
    "# Making a new column sentiment according to the Rating"
   ]
  },
  {
   "cell_type": "code",
   "execution_count": 23,
   "id": "3c70225a",
   "metadata": {},
   "outputs": [],
   "source": [
    "def assign_sentiment(rate):\n",
    "    if rate > 3:\n",
    "        return 1\n",
    "    else:\n",
    "        return 0\n",
    "\n",
    "# Apply the function to create a new 'Sentiment' column\n",
    "data['Sentiment'] = data['Rate'].apply(assign_sentiment)"
   ]
  },
  {
   "cell_type": "code",
   "execution_count": 24,
   "id": "2432ba8e",
   "metadata": {},
   "outputs": [
    {
     "data": {
      "text/html": [
       "<div>\n",
       "<style scoped>\n",
       "    .dataframe tbody tr th:only-of-type {\n",
       "        vertical-align: middle;\n",
       "    }\n",
       "\n",
       "    .dataframe tbody tr th {\n",
       "        vertical-align: top;\n",
       "    }\n",
       "\n",
       "    .dataframe thead th {\n",
       "        text-align: right;\n",
       "    }\n",
       "</style>\n",
       "<table border=\"1\" class=\"dataframe\">\n",
       "  <thead>\n",
       "    <tr style=\"text-align: right;\">\n",
       "      <th></th>\n",
       "      <th>Rate</th>\n",
       "      <th>Review</th>\n",
       "      <th>Summary</th>\n",
       "      <th>Sentiment</th>\n",
       "    </tr>\n",
       "  </thead>\n",
       "  <tbody>\n",
       "    <tr>\n",
       "      <th>0</th>\n",
       "      <td>5</td>\n",
       "      <td>Simply awesome</td>\n",
       "      <td>it's really worth every single penny. it works...</td>\n",
       "      <td>1</td>\n",
       "    </tr>\n",
       "    <tr>\n",
       "      <th>1</th>\n",
       "      <td>4</td>\n",
       "      <td>Worth the money . Desert Cooler live up to the...</td>\n",
       "      <td>I bought Crompton Ozone 75 Desert Air Cooler i...</td>\n",
       "      <td>1</td>\n",
       "    </tr>\n",
       "    <tr>\n",
       "      <th>2</th>\n",
       "      <td>5</td>\n",
       "      <td>Worth every penny</td>\n",
       "      <td>GREAT packaging by seller. As this was the mos...</td>\n",
       "      <td>1</td>\n",
       "    </tr>\n",
       "    <tr>\n",
       "      <th>3</th>\n",
       "      <td>5</td>\n",
       "      <td>Fabulous!</td>\n",
       "      <td>Delivery was delayed by two days except this e...</td>\n",
       "      <td>1</td>\n",
       "    </tr>\n",
       "    <tr>\n",
       "      <th>4</th>\n",
       "      <td>4</td>\n",
       "      <td>Nice product</td>\n",
       "      <td>A Good cooler by Crompton. The height of the c...</td>\n",
       "      <td>1</td>\n",
       "    </tr>\n",
       "  </tbody>\n",
       "</table>\n",
       "</div>"
      ],
      "text/plain": [
       "   Rate                                             Review  \\\n",
       "0     5                                     Simply awesome   \n",
       "1     4  Worth the money . Desert Cooler live up to the...   \n",
       "2     5                                  Worth every penny   \n",
       "3     5                                          Fabulous!   \n",
       "4     4                                       Nice product   \n",
       "\n",
       "                                             Summary  Sentiment  \n",
       "0  it's really worth every single penny. it works...          1  \n",
       "1  I bought Crompton Ozone 75 Desert Air Cooler i...          1  \n",
       "2  GREAT packaging by seller. As this was the mos...          1  \n",
       "3  Delivery was delayed by two days except this e...          1  \n",
       "4  A Good cooler by Crompton. The height of the c...          1  "
      ]
     },
     "execution_count": 24,
     "metadata": {},
     "output_type": "execute_result"
    }
   ],
   "source": [
    "data.head()"
   ]
  },
  {
   "cell_type": "markdown",
   "id": "c13b87c9",
   "metadata": {},
   "source": [
    "### number of positive and negetive sentiment.1 stands for positive and 0 stands for negetive sentiment "
   ]
  },
  {
   "cell_type": "code",
   "execution_count": 25,
   "id": "4c4fc0d2",
   "metadata": {},
   "outputs": [
    {
     "data": {
      "text/plain": [
       "1    149084\n",
       "0     55107\n",
       "Name: Sentiment, dtype: int64"
      ]
     },
     "execution_count": 25,
     "metadata": {},
     "output_type": "execute_result"
    }
   ],
   "source": [
    "data['Sentiment'].value_counts()"
   ]
  },
  {
   "cell_type": "markdown",
   "id": "0b4620dc",
   "metadata": {},
   "source": [
    "# Preprocessing the textual data "
   ]
  },
  {
   "cell_type": "markdown",
   "id": "78892ba8",
   "metadata": {},
   "source": [
    "### Lowercasing: Convert all text to lowercase to ensure consistency "
   ]
  },
  {
   "cell_type": "code",
   "execution_count": 26,
   "id": "02cb9efd",
   "metadata": {},
   "outputs": [],
   "source": [
    "data[\"Review\"]=data[\"Review\"].str.lower()\n",
    "data[\"Summary\"]=data[\"Summary\"].str.lower()"
   ]
  },
  {
   "cell_type": "code",
   "execution_count": 27,
   "id": "cb0bc1cc",
   "metadata": {},
   "outputs": [
    {
     "data": {
      "text/html": [
       "<div>\n",
       "<style scoped>\n",
       "    .dataframe tbody tr th:only-of-type {\n",
       "        vertical-align: middle;\n",
       "    }\n",
       "\n",
       "    .dataframe tbody tr th {\n",
       "        vertical-align: top;\n",
       "    }\n",
       "\n",
       "    .dataframe thead th {\n",
       "        text-align: right;\n",
       "    }\n",
       "</style>\n",
       "<table border=\"1\" class=\"dataframe\">\n",
       "  <thead>\n",
       "    <tr style=\"text-align: right;\">\n",
       "      <th></th>\n",
       "      <th>Rate</th>\n",
       "      <th>Review</th>\n",
       "      <th>Summary</th>\n",
       "      <th>Sentiment</th>\n",
       "    </tr>\n",
       "  </thead>\n",
       "  <tbody>\n",
       "    <tr>\n",
       "      <th>0</th>\n",
       "      <td>5</td>\n",
       "      <td>simply awesome</td>\n",
       "      <td>it's really worth every single penny. it works...</td>\n",
       "      <td>1</td>\n",
       "    </tr>\n",
       "    <tr>\n",
       "      <th>1</th>\n",
       "      <td>4</td>\n",
       "      <td>worth the money . desert cooler live up to the...</td>\n",
       "      <td>i bought crompton ozone 75 desert air cooler i...</td>\n",
       "      <td>1</td>\n",
       "    </tr>\n",
       "    <tr>\n",
       "      <th>2</th>\n",
       "      <td>5</td>\n",
       "      <td>worth every penny</td>\n",
       "      <td>great packaging by seller. as this was the mos...</td>\n",
       "      <td>1</td>\n",
       "    </tr>\n",
       "    <tr>\n",
       "      <th>3</th>\n",
       "      <td>5</td>\n",
       "      <td>fabulous!</td>\n",
       "      <td>delivery was delayed by two days except this e...</td>\n",
       "      <td>1</td>\n",
       "    </tr>\n",
       "    <tr>\n",
       "      <th>4</th>\n",
       "      <td>4</td>\n",
       "      <td>nice product</td>\n",
       "      <td>a good cooler by crompton. the height of the c...</td>\n",
       "      <td>1</td>\n",
       "    </tr>\n",
       "  </tbody>\n",
       "</table>\n",
       "</div>"
      ],
      "text/plain": [
       "   Rate                                             Review  \\\n",
       "0     5                                     simply awesome   \n",
       "1     4  worth the money . desert cooler live up to the...   \n",
       "2     5                                  worth every penny   \n",
       "3     5                                          fabulous!   \n",
       "4     4                                       nice product   \n",
       "\n",
       "                                             Summary  Sentiment  \n",
       "0  it's really worth every single penny. it works...          1  \n",
       "1  i bought crompton ozone 75 desert air cooler i...          1  \n",
       "2  great packaging by seller. as this was the mos...          1  \n",
       "3  delivery was delayed by two days except this e...          1  \n",
       "4  a good cooler by crompton. the height of the c...          1  "
      ]
     },
     "execution_count": 27,
     "metadata": {},
     "output_type": "execute_result"
    }
   ],
   "source": [
    "data.head()"
   ]
  },
  {
   "cell_type": "markdown",
   "id": "d954c304",
   "metadata": {},
   "source": [
    "## Removing punctuation: "
   ]
  },
  {
   "cell_type": "code",
   "execution_count": 28,
   "id": "b20d6850",
   "metadata": {},
   "outputs": [
    {
     "data": {
      "text/plain": [
       "'!\"#$%&\\'()*+,-./:;<=>?@[\\\\]^_`{|}~'"
      ]
     },
     "execution_count": 28,
     "metadata": {},
     "output_type": "execute_result"
    }
   ],
   "source": [
    "import string, time \n",
    "string.punctuation"
   ]
  },
  {
   "cell_type": "code",
   "execution_count": 29,
   "id": "faaa235b",
   "metadata": {},
   "outputs": [
    {
     "data": {
      "text/plain": [
       "'!\"#$%&\\'()*+,-./:;<=>?@[\\\\]^_`{|}~'"
      ]
     },
     "execution_count": 29,
     "metadata": {},
     "output_type": "execute_result"
    }
   ],
   "source": [
    "exclude=string.punctuation\n",
    "exclude"
   ]
  },
  {
   "cell_type": "code",
   "execution_count": 30,
   "id": "595a04b7",
   "metadata": {},
   "outputs": [],
   "source": [
    "def remove_punc(text):\n",
    "    return text.translate(str.maketrans('','',exclude))"
   ]
  },
  {
   "cell_type": "code",
   "execution_count": 31,
   "id": "23f0e0ec",
   "metadata": {},
   "outputs": [],
   "source": [
    "data['Review']=data['Review'].apply(remove_punc)"
   ]
  },
  {
   "cell_type": "code",
   "execution_count": 32,
   "id": "b2e6e703",
   "metadata": {},
   "outputs": [],
   "source": [
    "data['Summary']=data['Summary'].apply(remove_punc)"
   ]
  },
  {
   "cell_type": "code",
   "execution_count": 33,
   "id": "5a3afddf",
   "metadata": {},
   "outputs": [
    {
     "data": {
      "text/html": [
       "<div>\n",
       "<style scoped>\n",
       "    .dataframe tbody tr th:only-of-type {\n",
       "        vertical-align: middle;\n",
       "    }\n",
       "\n",
       "    .dataframe tbody tr th {\n",
       "        vertical-align: top;\n",
       "    }\n",
       "\n",
       "    .dataframe thead th {\n",
       "        text-align: right;\n",
       "    }\n",
       "</style>\n",
       "<table border=\"1\" class=\"dataframe\">\n",
       "  <thead>\n",
       "    <tr style=\"text-align: right;\">\n",
       "      <th></th>\n",
       "      <th>Rate</th>\n",
       "      <th>Review</th>\n",
       "      <th>Summary</th>\n",
       "      <th>Sentiment</th>\n",
       "    </tr>\n",
       "  </thead>\n",
       "  <tbody>\n",
       "    <tr>\n",
       "      <th>0</th>\n",
       "      <td>5</td>\n",
       "      <td>simply awesome</td>\n",
       "      <td>its really worth every single penny it works l...</td>\n",
       "      <td>1</td>\n",
       "    </tr>\n",
       "    <tr>\n",
       "      <th>1</th>\n",
       "      <td>4</td>\n",
       "      <td>worth the money  desert cooler live up to the ...</td>\n",
       "      <td>i bought crompton ozone 75 desert air cooler i...</td>\n",
       "      <td>1</td>\n",
       "    </tr>\n",
       "    <tr>\n",
       "      <th>2</th>\n",
       "      <td>5</td>\n",
       "      <td>worth every penny</td>\n",
       "      <td>great packaging by seller as this was the most...</td>\n",
       "      <td>1</td>\n",
       "    </tr>\n",
       "    <tr>\n",
       "      <th>3</th>\n",
       "      <td>5</td>\n",
       "      <td>fabulous</td>\n",
       "      <td>delivery was delayed by two days except this e...</td>\n",
       "      <td>1</td>\n",
       "    </tr>\n",
       "    <tr>\n",
       "      <th>4</th>\n",
       "      <td>4</td>\n",
       "      <td>nice product</td>\n",
       "      <td>a good cooler by crompton the height of the co...</td>\n",
       "      <td>1</td>\n",
       "    </tr>\n",
       "    <tr>\n",
       "      <th>...</th>\n",
       "      <td>...</td>\n",
       "      <td>...</td>\n",
       "      <td>...</td>\n",
       "      <td>...</td>\n",
       "    </tr>\n",
       "    <tr>\n",
       "      <th>95</th>\n",
       "      <td>5</td>\n",
       "      <td>brilliant</td>\n",
       "      <td>working well and cooling is also greati liked ...</td>\n",
       "      <td>1</td>\n",
       "    </tr>\n",
       "    <tr>\n",
       "      <th>96</th>\n",
       "      <td>5</td>\n",
       "      <td>superexcelleant product</td>\n",
       "      <td>delievered in just 24 hours after the order wh...</td>\n",
       "      <td>1</td>\n",
       "    </tr>\n",
       "    <tr>\n",
       "      <th>97</th>\n",
       "      <td>5</td>\n",
       "      <td>fabulous</td>\n",
       "      <td>fantastic air throw and yet quiet fan  great c...</td>\n",
       "      <td>1</td>\n",
       "    </tr>\n",
       "    <tr>\n",
       "      <th>98</th>\n",
       "      <td>5</td>\n",
       "      <td>brilliant</td>\n",
       "      <td>i ama truly satisfied with the product it cool...</td>\n",
       "      <td>1</td>\n",
       "    </tr>\n",
       "    <tr>\n",
       "      <th>99</th>\n",
       "      <td>5</td>\n",
       "      <td>highly recommended</td>\n",
       "      <td>better plastic quality than symphony better pr...</td>\n",
       "      <td>1</td>\n",
       "    </tr>\n",
       "  </tbody>\n",
       "</table>\n",
       "<p>100 rows × 4 columns</p>\n",
       "</div>"
      ],
      "text/plain": [
       "    Rate                                             Review  \\\n",
       "0      5                                     simply awesome   \n",
       "1      4  worth the money  desert cooler live up to the ...   \n",
       "2      5                                  worth every penny   \n",
       "3      5                                           fabulous   \n",
       "4      4                                       nice product   \n",
       "..   ...                                                ...   \n",
       "95     5                                          brilliant   \n",
       "96     5                            superexcelleant product   \n",
       "97     5                                           fabulous   \n",
       "98     5                                          brilliant   \n",
       "99     5                                 highly recommended   \n",
       "\n",
       "                                              Summary  Sentiment  \n",
       "0   its really worth every single penny it works l...          1  \n",
       "1   i bought crompton ozone 75 desert air cooler i...          1  \n",
       "2   great packaging by seller as this was the most...          1  \n",
       "3   delivery was delayed by two days except this e...          1  \n",
       "4   a good cooler by crompton the height of the co...          1  \n",
       "..                                                ...        ...  \n",
       "95  working well and cooling is also greati liked ...          1  \n",
       "96  delievered in just 24 hours after the order wh...          1  \n",
       "97  fantastic air throw and yet quiet fan  great c...          1  \n",
       "98  i ama truly satisfied with the product it cool...          1  \n",
       "99  better plastic quality than symphony better pr...          1  \n",
       "\n",
       "[100 rows x 4 columns]"
      ]
     },
     "execution_count": 33,
     "metadata": {},
     "output_type": "execute_result"
    }
   ],
   "source": [
    "data.head(100)"
   ]
  },
  {
   "cell_type": "code",
   "execution_count": 34,
   "id": "7c5d69df",
   "metadata": {},
   "outputs": [
    {
     "data": {
      "text/plain": [
       "(204191, 4)"
      ]
     },
     "execution_count": 34,
     "metadata": {},
     "output_type": "execute_result"
    }
   ],
   "source": [
    "data.shape"
   ]
  },
  {
   "cell_type": "code",
   "execution_count": 35,
   "id": "c3f95681",
   "metadata": {},
   "outputs": [
    {
     "data": {
      "text/plain": [
       "20076"
      ]
     },
     "execution_count": 35,
     "metadata": {},
     "output_type": "execute_result"
    }
   ],
   "source": [
    "data.duplicated().sum()"
   ]
  },
  {
   "cell_type": "code",
   "execution_count": 36,
   "id": "0b36a249",
   "metadata": {},
   "outputs": [],
   "source": [
    "data.drop_duplicates(keep='first',inplace=True)"
   ]
  },
  {
   "cell_type": "code",
   "execution_count": 37,
   "id": "2ea552d6",
   "metadata": {},
   "outputs": [
    {
     "data": {
      "text/plain": [
       "(184115, 4)"
      ]
     },
     "execution_count": 37,
     "metadata": {},
     "output_type": "execute_result"
    }
   ],
   "source": [
    "data.shape"
   ]
  },
  {
   "cell_type": "code",
   "execution_count": 38,
   "id": "a099c9f6",
   "metadata": {},
   "outputs": [
    {
     "data": {
      "text/plain": [
       "1    133003\n",
       "0     51112\n",
       "Name: Sentiment, dtype: int64"
      ]
     },
     "execution_count": 38,
     "metadata": {},
     "output_type": "execute_result"
    }
   ],
   "source": [
    "data['Sentiment'].value_counts()"
   ]
  },
  {
   "cell_type": "markdown",
   "id": "6dc114aa",
   "metadata": {},
   "source": [
    "## Distribution of positive and negative sentiment "
   ]
  },
  {
   "cell_type": "code",
   "execution_count": 39,
   "id": "1a16bb0e",
   "metadata": {},
   "outputs": [
    {
     "data": {
      "image/png": "[encoded data removed]",
      "text/plain": [
       "<Figure size 800x600 with 1 Axes>"
      ]
     },
     "metadata": {},
     "output_type": "display_data"
    }
   ],
   "source": [
    "\n",
    "\n",
    "# 'Sentiment' column contains categorical values (e.g., 'positive', 'negative')\n",
    "\n",
    "# Count the occurrences of each sentiment category\n",
    "sentiment_counts_old = data['Sentiment'].value_counts()\n",
    "\n",
    "# Plotting the bar plot\n",
    "plt.figure(figsize=(8, 6))\n",
    "sentiment_counts_old.plot(kind='bar', color='skyblue')\n",
    "plt.title('Sentiment Distribution')\n",
    "plt.xlabel('Sentiment')\n",
    "plt.ylabel('Count')\n",
    "plt.xticks(rotation=45)  # Rotate x-axis labels for better readability\n",
    "plt.show()\n"
   ]
  },
  {
   "cell_type": "code",
   "execution_count": 40,
   "id": "44b1a80a",
   "metadata": {},
   "outputs": [
    {
     "data": {
      "text/plain": [
       "1    133003\n",
       "0     51112\n",
       "Name: Sentiment, dtype: int64"
      ]
     },
     "execution_count": 40,
     "metadata": {},
     "output_type": "execute_result"
    }
   ],
   "source": [
    "sentiment_counts_old"
   ]
  },
  {
   "cell_type": "markdown",
   "id": "ddcdbeb7",
   "metadata": {},
   "source": [
    "Number of positive sentiment is very high than the number of negative sentiment which can lead our model in misdirection.\n",
    "Also the number of rows in our dataset is very high, we can sample a subset of our dataset with same ratio of positive and negative sentiment"
   ]
  },
  {
   "cell_type": "markdown",
   "id": "df0f09be",
   "metadata": {},
   "source": [
    "## sampling new dataset from old with same ratio of positive and negative class"
   ]
  },
  {
   "cell_type": "code",
   "execution_count": 41,
   "id": "74bf8e66",
   "metadata": {},
   "outputs": [],
   "source": [
    "\n",
    "\n",
    "# Separate positive and negative class subsets\n",
    "positive_subset = data[data['Sentiment'] == 1]\n",
    "negative_subset = data[data['Sentiment'] == 0]\n",
    "\n",
    "# Count instances in each class\n",
    "num_positive = len(positive_subset)\n",
    "num_negative = len(negative_subset)\n",
    "\n",
    "# Determine the minimum number of instances between positive and negative classes\n",
    "min_instances = min(num_positive, num_negative)\n",
    "\n",
    "# Sample instances from each class to create the balanced subset\n",
    "balanced_subset = pd.concat([\n",
    "    positive_subset.sample(n=min_instances, random_state=42),\n",
    "    negative_subset.sample(n=min_instances, random_state=42)\n",
    "], ignore_index=True)\n",
    "\n",
    "# Now 'balanced_subset' contains an equal number of positive and negative class instances\n"
   ]
  },
  {
   "cell_type": "markdown",
   "id": "3eb7def7",
   "metadata": {},
   "source": [
    "## New distribution of the dataset"
   ]
  },
  {
   "cell_type": "code",
   "execution_count": 42,
   "id": "2335db73",
   "metadata": {},
   "outputs": [
    {
     "data": {
      "image/png": "[encoded data removed]",
      "text/plain": [
       "<Figure size 800x600 with 1 Axes>"
      ]
     },
     "metadata": {},
     "output_type": "display_data"
    }
   ],
   "source": [
    "\n",
    "# 'Sentiment' column contains categorical values (e.g., 'positive', 'negative')\n",
    "\n",
    "# Count the occurrences of each sentiment category\n",
    "sentiment_counts = balanced_subset['Sentiment'].value_counts()\n",
    "\n",
    "# Plotting the bar plot\n",
    "plt.figure(figsize=(8, 6))\n",
    "sentiment_counts.plot(kind='bar', color='skyblue')\n",
    "plt.title('Sentiment Distribution (Balanced Dataset)')\n",
    "plt.xlabel('Sentiment')\n",
    "plt.ylabel('Count')\n",
    "plt.xticks(rotation=45)  # Rotate x-axis labels for better readability\n",
    "plt.show()\n"
   ]
  },
  {
   "cell_type": "code",
   "execution_count": 43,
   "id": "18ac0a0a",
   "metadata": {},
   "outputs": [
    {
     "data": {
      "text/plain": [
       "1    51112\n",
       "0    51112\n",
       "Name: Sentiment, dtype: int64"
      ]
     },
     "execution_count": 43,
     "metadata": {},
     "output_type": "execute_result"
    }
   ],
   "source": [
    "balanced_subset[\"Sentiment\"].value_counts()"
   ]
  },
  {
   "cell_type": "code",
   "execution_count": 44,
   "id": "62de026b",
   "metadata": {},
   "outputs": [],
   "source": [
    "\n",
    "\n",
    "# Shuffle the rows of the DataFrame\n",
    "shuffled_data= balanced_subset.sample(frac=1, random_state=42)\n",
    "\n",
    "# Now 'shuffled_df' contains the DataFrame with shuffled rows\n"
   ]
  },
  {
   "cell_type": "code",
   "execution_count": 45,
   "id": "3f286197",
   "metadata": {},
   "outputs": [
    {
     "data": {
      "text/html": [
       "<div>\n",
       "<style scoped>\n",
       "    .dataframe tbody tr th:only-of-type {\n",
       "        vertical-align: middle;\n",
       "    }\n",
       "\n",
       "    .dataframe tbody tr th {\n",
       "        vertical-align: top;\n",
       "    }\n",
       "\n",
       "    .dataframe thead th {\n",
       "        text-align: right;\n",
       "    }\n",
       "</style>\n",
       "<table border=\"1\" class=\"dataframe\">\n",
       "  <thead>\n",
       "    <tr style=\"text-align: right;\">\n",
       "      <th></th>\n",
       "      <th>Rate</th>\n",
       "      <th>Review</th>\n",
       "      <th>Summary</th>\n",
       "      <th>Sentiment</th>\n",
       "    </tr>\n",
       "  </thead>\n",
       "  <tbody>\n",
       "    <tr>\n",
       "      <th>24015</th>\n",
       "      <td>4</td>\n",
       "      <td>nice product</td>\n",
       "      <td>no comments</td>\n",
       "      <td>1</td>\n",
       "    </tr>\n",
       "    <tr>\n",
       "      <th>69113</th>\n",
       "      <td>3</td>\n",
       "      <td>decent product</td>\n",
       "      <td>material quality is poor</td>\n",
       "      <td>0</td>\n",
       "    </tr>\n",
       "    <tr>\n",
       "      <th>55353</th>\n",
       "      <td>3</td>\n",
       "      <td>nice</td>\n",
       "      <td>the lid has got no hole to let steam escape it...</td>\n",
       "      <td>0</td>\n",
       "    </tr>\n",
       "    <tr>\n",
       "      <th>91078</th>\n",
       "      <td>1</td>\n",
       "      <td>waste of money</td>\n",
       "      <td>its so small</td>\n",
       "      <td>0</td>\n",
       "    </tr>\n",
       "    <tr>\n",
       "      <th>96098</th>\n",
       "      <td>1</td>\n",
       "      <td>horrible</td>\n",
       "      <td>bad</td>\n",
       "      <td>0</td>\n",
       "    </tr>\n",
       "    <tr>\n",
       "      <th>...</th>\n",
       "      <td>...</td>\n",
       "      <td>...</td>\n",
       "      <td>...</td>\n",
       "      <td>...</td>\n",
       "    </tr>\n",
       "    <tr>\n",
       "      <th>6265</th>\n",
       "      <td>4</td>\n",
       "      <td>delightful</td>\n",
       "      <td>good packinggood quality</td>\n",
       "      <td>1</td>\n",
       "    </tr>\n",
       "    <tr>\n",
       "      <th>54886</th>\n",
       "      <td>3</td>\n",
       "      <td>fair</td>\n",
       "      <td>just on show piece only so we not use regular ...</td>\n",
       "      <td>0</td>\n",
       "    </tr>\n",
       "    <tr>\n",
       "      <th>76820</th>\n",
       "      <td>1</td>\n",
       "      <td>horrible</td>\n",
       "      <td>apps not running</td>\n",
       "      <td>0</td>\n",
       "    </tr>\n",
       "    <tr>\n",
       "      <th>860</th>\n",
       "      <td>5</td>\n",
       "      <td>excellent</td>\n",
       "      <td>a simple product with significant functional u...</td>\n",
       "      <td>1</td>\n",
       "    </tr>\n",
       "    <tr>\n",
       "      <th>15795</th>\n",
       "      <td>5</td>\n",
       "      <td>worth every penny</td>\n",
       "      <td>super product and super delivery and service</td>\n",
       "      <td>1</td>\n",
       "    </tr>\n",
       "  </tbody>\n",
       "</table>\n",
       "<p>102224 rows × 4 columns</p>\n",
       "</div>"
      ],
      "text/plain": [
       "       Rate             Review  \\\n",
       "24015     4       nice product   \n",
       "69113     3     decent product   \n",
       "55353     3               nice   \n",
       "91078     1     waste of money   \n",
       "96098     1           horrible   \n",
       "...     ...                ...   \n",
       "6265      4         delightful   \n",
       "54886     3               fair   \n",
       "76820     1           horrible   \n",
       "860       5          excellent   \n",
       "15795     5  worth every penny   \n",
       "\n",
       "                                                 Summary  Sentiment  \n",
       "24015                                        no comments          1  \n",
       "69113                           material quality is poor          0  \n",
       "55353  the lid has got no hole to let steam escape it...          0  \n",
       "91078                                       its so small          0  \n",
       "96098                                               bad           0  \n",
       "...                                                  ...        ...  \n",
       "6265                            good packinggood quality          1  \n",
       "54886  just on show piece only so we not use regular ...          0  \n",
       "76820                                   apps not running          0  \n",
       "860    a simple product with significant functional u...          1  \n",
       "15795       super product and super delivery and service          1  \n",
       "\n",
       "[102224 rows x 4 columns]"
      ]
     },
     "execution_count": 45,
     "metadata": {},
     "output_type": "execute_result"
    }
   ],
   "source": [
    "shuffled_data"
   ]
  },
  {
   "cell_type": "markdown",
   "id": "653745fc",
   "metadata": {},
   "source": [
    "## removing the stop words "
   ]
  },
  {
   "cell_type": "code",
   "execution_count": 46,
   "id": "df2ab446",
   "metadata": {},
   "outputs": [
    {
     "name": "stderr",
     "output_type": "stream",
     "text": [
      "[nltk_data] Downloading package stopwords to C:\\Users\\MAINAK\n",
      "[nltk_data]     BANERJEE\\AppData\\Roaming\\nltk_data...\n",
      "[nltk_data]   Package stopwords is already up-to-date!\n"
     ]
    }
   ],
   "source": [
    "\n",
    "import nltk\n",
    "# Download NLTK stop words list\n",
    "nltk.download('stopwords')\n",
    "\n",
    "# Get the list of English stop words\n",
    "stop_words = set(stopwords.words('english'))\n",
    "\n",
    "# Function to remove stop words from text\n",
    "def remove_stopwords(text):\n",
    "    # Split text into words\n",
    "    words = text.split()\n",
    "    # Remove stop words\n",
    "    filtered_words = [word for word in words if word.lower() not in stop_words]\n",
    "    # Join the filtered words back into a sentence\n",
    "    filtered_text = ' '.join(filtered_words)\n",
    "    return filtered_text\n",
    "\n",
    "# Apply the remove_stopwords function to the 'Review' column\n",
    "shuffled_data['Review'] = shuffled_data['Review'].apply(remove_stopwords)\n",
    "\n",
    "# Apply the remove_stopwords function to the 'Summary' column\n",
    "shuffled_data['Summary'] = shuffled_data['Summary'].apply(remove_stopwords)\n",
    "\n",
    "# Now 'shuffled_df' contains the 'Review' and 'Summary' columns with stop words removed\n"
   ]
  },
  {
   "cell_type": "code",
   "execution_count": 47,
   "id": "4d860369",
   "metadata": {},
   "outputs": [
    {
     "data": {
      "text/html": [
       "<div>\n",
       "<style scoped>\n",
       "    .dataframe tbody tr th:only-of-type {\n",
       "        vertical-align: middle;\n",
       "    }\n",
       "\n",
       "    .dataframe tbody tr th {\n",
       "        vertical-align: top;\n",
       "    }\n",
       "\n",
       "    .dataframe thead th {\n",
       "        text-align: right;\n",
       "    }\n",
       "</style>\n",
       "<table border=\"1\" class=\"dataframe\">\n",
       "  <thead>\n",
       "    <tr style=\"text-align: right;\">\n",
       "      <th></th>\n",
       "      <th>Rate</th>\n",
       "      <th>Review</th>\n",
       "      <th>Summary</th>\n",
       "      <th>Sentiment</th>\n",
       "    </tr>\n",
       "  </thead>\n",
       "  <tbody>\n",
       "    <tr>\n",
       "      <th>24015</th>\n",
       "      <td>4</td>\n",
       "      <td>nice product</td>\n",
       "      <td>comments</td>\n",
       "      <td>1</td>\n",
       "    </tr>\n",
       "    <tr>\n",
       "      <th>69113</th>\n",
       "      <td>3</td>\n",
       "      <td>decent product</td>\n",
       "      <td>material quality poor</td>\n",
       "      <td>0</td>\n",
       "    </tr>\n",
       "    <tr>\n",
       "      <th>55353</th>\n",
       "      <td>3</td>\n",
       "      <td>nice</td>\n",
       "      <td>lid got hole let steam escape resulted damage ...</td>\n",
       "      <td>0</td>\n",
       "    </tr>\n",
       "    <tr>\n",
       "      <th>91078</th>\n",
       "      <td>1</td>\n",
       "      <td>waste money</td>\n",
       "      <td>small</td>\n",
       "      <td>0</td>\n",
       "    </tr>\n",
       "    <tr>\n",
       "      <th>96098</th>\n",
       "      <td>1</td>\n",
       "      <td>horrible</td>\n",
       "      <td>bad</td>\n",
       "      <td>0</td>\n",
       "    </tr>\n",
       "  </tbody>\n",
       "</table>\n",
       "</div>"
      ],
      "text/plain": [
       "       Rate          Review  \\\n",
       "24015     4    nice product   \n",
       "69113     3  decent product   \n",
       "55353     3            nice   \n",
       "91078     1     waste money   \n",
       "96098     1        horrible   \n",
       "\n",
       "                                                 Summary  Sentiment  \n",
       "24015                                           comments          1  \n",
       "69113                              material quality poor          0  \n",
       "55353  lid got hole let steam escape resulted damage ...          0  \n",
       "91078                                              small          0  \n",
       "96098                                                bad          0  "
      ]
     },
     "execution_count": 47,
     "metadata": {},
     "output_type": "execute_result"
    }
   ],
   "source": [
    "shuffled_data.head()"
   ]
  },
  {
   "cell_type": "code",
   "execution_count": 48,
   "id": "6dc61c4d",
   "metadata": {},
   "outputs": [],
   "source": [
    "shuffled_data.reset_index(drop=True, inplace=True)"
   ]
  },
  {
   "cell_type": "markdown",
   "id": "39601b20",
   "metadata": {},
   "source": [
    "# Preview of the preprocessed data"
   ]
  },
  {
   "cell_type": "code",
   "execution_count": 49,
   "id": "9845f471",
   "metadata": {},
   "outputs": [
    {
     "data": {
      "text/html": [
       "<div>\n",
       "<style scoped>\n",
       "    .dataframe tbody tr th:only-of-type {\n",
       "        vertical-align: middle;\n",
       "    }\n",
       "\n",
       "    .dataframe tbody tr th {\n",
       "        vertical-align: top;\n",
       "    }\n",
       "\n",
       "    .dataframe thead th {\n",
       "        text-align: right;\n",
       "    }\n",
       "</style>\n",
       "<table border=\"1\" class=\"dataframe\">\n",
       "  <thead>\n",
       "    <tr style=\"text-align: right;\">\n",
       "      <th></th>\n",
       "      <th>Rate</th>\n",
       "      <th>Review</th>\n",
       "      <th>Summary</th>\n",
       "      <th>Sentiment</th>\n",
       "    </tr>\n",
       "  </thead>\n",
       "  <tbody>\n",
       "    <tr>\n",
       "      <th>0</th>\n",
       "      <td>4</td>\n",
       "      <td>nice product</td>\n",
       "      <td>comments</td>\n",
       "      <td>1</td>\n",
       "    </tr>\n",
       "    <tr>\n",
       "      <th>1</th>\n",
       "      <td>3</td>\n",
       "      <td>decent product</td>\n",
       "      <td>material quality poor</td>\n",
       "      <td>0</td>\n",
       "    </tr>\n",
       "    <tr>\n",
       "      <th>2</th>\n",
       "      <td>3</td>\n",
       "      <td>nice</td>\n",
       "      <td>lid got hole let steam escape resulted damage ...</td>\n",
       "      <td>0</td>\n",
       "    </tr>\n",
       "    <tr>\n",
       "      <th>3</th>\n",
       "      <td>1</td>\n",
       "      <td>waste money</td>\n",
       "      <td>small</td>\n",
       "      <td>0</td>\n",
       "    </tr>\n",
       "    <tr>\n",
       "      <th>4</th>\n",
       "      <td>1</td>\n",
       "      <td>horrible</td>\n",
       "      <td>bad</td>\n",
       "      <td>0</td>\n",
       "    </tr>\n",
       "  </tbody>\n",
       "</table>\n",
       "</div>"
      ],
      "text/plain": [
       "   Rate          Review                                            Summary  \\\n",
       "0     4    nice product                                           comments   \n",
       "1     3  decent product                              material quality poor   \n",
       "2     3            nice  lid got hole let steam escape resulted damage ...   \n",
       "3     1     waste money                                              small   \n",
       "4     1        horrible                                                bad   \n",
       "\n",
       "   Sentiment  \n",
       "0          1  \n",
       "1          0  \n",
       "2          0  \n",
       "3          0  \n",
       "4          0  "
      ]
     },
     "execution_count": 49,
     "metadata": {},
     "output_type": "execute_result"
    }
   ],
   "source": [
    "shuffled_data.head()"
   ]
  },
  {
   "cell_type": "markdown",
   "id": "a885d598",
   "metadata": {},
   "source": [
    "# Word vectorization "
   ]
  },
  {
   "cell_type": "code",
   "execution_count": 50,
   "id": "519808ad",
   "metadata": {},
   "outputs": [],
   "source": [
    "from sklearn.feature_extraction.text import CountVectorizer\n",
    "\n",
    "summaries = shuffled_data['Review']\n",
    "\n",
    "# Initialize CountVectorizer\n",
    "vectorizer = CountVectorizer()\n",
    "\n",
    "# Fit the vectorizer to your data and transform the 'Summary' column\n",
    "summary_vectors = vectorizer.fit_transform(summaries)\n",
    "\n",
    "# summary_vectors now contains the count vectors for each summary in your DataFrame\n"
   ]
  },
  {
   "cell_type": "code",
   "execution_count": 51,
   "id": "e883d345",
   "metadata": {},
   "outputs": [
    {
     "data": {
      "text/plain": [
       "<102224x1422 sparse matrix of type '<class 'numpy.int64'>'\n",
       "\twith 166938 stored elements in Compressed Sparse Row format>"
      ]
     },
     "execution_count": 51,
     "metadata": {},
     "output_type": "execute_result"
    }
   ],
   "source": [
    "summary_vectors"
   ]
  },
  {
   "cell_type": "code",
   "execution_count": 52,
   "id": "93d0df15",
   "metadata": {},
   "outputs": [],
   "source": [
    "from sklearn.feature_extraction.text import TfidfVectorizer\n",
    "\n",
    "# Initialize TfidfVectorizer\n",
    "tfidf_vectorizer = TfidfVectorizer(max_features=1000)\n",
    "\n",
    "# Fit the vectorizer to your data and transform the 'Summary' column\n",
    "x= tfidf_vectorizer.fit_transform(shuffled_data['Review'])\n",
    "\n",
    "\n"
   ]
  },
  {
   "cell_type": "code",
   "execution_count": 53,
   "id": "a4ea6322",
   "metadata": {},
   "outputs": [],
   "source": [
    "y= shuffled_data['Sentiment']"
   ]
  },
  {
   "cell_type": "markdown",
   "id": "ac71a53b",
   "metadata": {},
   "source": [
    "# Model implementation  "
   ]
  },
  {
   "cell_type": "markdown",
   "id": "ba336fcd",
   "metadata": {},
   "source": [
    "## Naive bayes "
   ]
  },
  {
   "cell_type": "code",
   "execution_count": 54,
   "id": "85b70263",
   "metadata": {},
   "outputs": [
    {
     "name": "stdout",
     "output_type": "stream",
     "text": [
      "Gaussian Naive Bayes Accuracy: 0.911242989435242\n",
      "Bernoulli Naive Bayes Accuracy: 0.9378179209599583\n",
      "Multinomial Naive Bayes Accuracy: 0.9534694143732881\n"
     ]
    }
   ],
   "source": [
    "\n",
    "from sklearn.model_selection import train_test_split\n",
    "from sklearn.naive_bayes import GaussianNB, BernoulliNB, MultinomialNB\n",
    "from sklearn.metrics import accuracy_score\n",
    "\n",
    "\n",
    "# Split data into train and test sets\n",
    "x_train,x_test,y_train,y_test=train_test_split(x,y,test_size=0.3, stratify=y)\n",
    "\n",
    "# Define Naive Bayes classifiers\n",
    "gaussian_nb = GaussianNB()\n",
    "bernoulli_nb = BernoulliNB()\n",
    "multinomial_nb = MultinomialNB()\n",
    "\n",
    "# Train the models\n",
    "gaussian_nb.fit(x_train.toarray(), y_train)\n",
    "bernoulli_nb.fit(x_train.toarray(), y_train)\n",
    "multinomial_nb.fit(x_train.toarray(), y_train)\n",
    "\n",
    "# Make predictions\n",
    "gaussian_pred = gaussian_nb.predict(x_test.toarray())\n",
    "bernoulli_pred = bernoulli_nb.predict(x_test.toarray())\n",
    "multinomial_pred = multinomial_nb.predict(x_test.toarray())\n",
    "\n",
    "# Calculate accuracy\n",
    "gaussian_accuracy = accuracy_score(y_test, gaussian_pred)\n",
    "bernoulli_accuracy = accuracy_score(y_test, bernoulli_pred)\n",
    "multinomial_accuracy = accuracy_score(y_test, multinomial_pred)\n",
    "\n",
    "print(\"Gaussian Naive Bayes Accuracy:\", gaussian_accuracy)\n",
    "print(\"Bernoulli Naive Bayes Accuracy:\", bernoulli_accuracy)\n",
    "print(\"Multinomial Naive Bayes Accuracy:\", multinomial_accuracy)\n"
   ]
  },
  {
   "cell_type": "code",
   "execution_count": 55,
   "id": "af445709",
   "metadata": {},
   "outputs": [
    {
     "data": {
      "image/png": "[encoded data removed]",
      "text/plain": [
       "<Figure size 800x600 with 2 Axes>"
      ]
     },
     "metadata": {},
     "output_type": "display_data"
    }
   ],
   "source": [
    "from sklearn.metrics import confusion_matrix\n",
    "import matplotlib.pyplot as plt\n",
    "import seaborn as sns\n",
    "\n",
    "# Calculate the confusion matrix\n",
    "conf_matrix_nb = confusion_matrix(y_test,multinomial_pred )\n",
    "\n",
    "# Plot the confusion matrix\n",
    "plt.figure(figsize=(8, 6))\n",
    "sns.heatmap(conf_matrix_nb, annot=True, fmt='d', cmap='Blues', xticklabels=['Negative', 'Positive'], yticklabels=['Negative', 'Positive'])\n",
    "plt.xlabel('Predicted labels')\n",
    "plt.ylabel('True labels')\n",
    "plt.title('Confusion Matrix')\n",
    "plt.show()"
   ]
  },
  {
   "cell_type": "code",
   "execution_count": 56,
   "id": "ce7d2a30",
   "metadata": {},
   "outputs": [
    {
     "data": {
      "text/plain": [
       "(102224, 1000)"
      ]
     },
     "execution_count": 56,
     "metadata": {},
     "output_type": "execute_result"
    }
   ],
   "source": [
    "x.shape"
   ]
  },
  {
   "cell_type": "code",
   "execution_count": 57,
   "id": "1b6111e3",
   "metadata": {},
   "outputs": [
    {
     "data": {
      "text/plain": [
       "(102224,)"
      ]
     },
     "execution_count": 57,
     "metadata": {},
     "output_type": "execute_result"
    }
   ],
   "source": [
    "y.shape"
   ]
  },
  {
   "cell_type": "markdown",
   "id": "5bd31676",
   "metadata": {},
   "source": [
    "### Prediction Demo"
   ]
  },
  {
   "cell_type": "code",
   "execution_count": 58,
   "id": "12e85304",
   "metadata": {},
   "outputs": [],
   "source": [
    "flipkart_review=np.array([\"Nice phone, smooth in performance, camera is good, overall great product\"])"
   ]
  },
  {
   "cell_type": "code",
   "execution_count": 59,
   "id": "4b28a5aa",
   "metadata": {},
   "outputs": [
    {
     "name": "stdout",
     "output_type": "stream",
     "text": [
      "[1]\n",
      "[1]\n",
      "[1]\n"
     ]
    }
   ],
   "source": [
    "flipkart_review_vector=tfidf_vectorizer.transform(flipkart_review)\n",
    "print(gaussian_nb.predict(flipkart_review_vector.toarray()))\n",
    "print(bernoulli_nb.predict(flipkart_review_vector.toarray()))\n",
    "print(multinomial_nb.predict(flipkart_review_vector.toarray()))"
   ]
  },
  {
   "cell_type": "markdown",
   "id": "a0e5841e",
   "metadata": {},
   "source": [
    "So multinomial Naive Bayes is giving the best result"
   ]
  },
  {
   "cell_type": "markdown",
   "id": "dbaf226f",
   "metadata": {},
   "source": [
    "## support Vector Machine"
   ]
  },
  {
   "cell_type": "code",
   "execution_count": 60,
   "id": "fc679102",
   "metadata": {},
   "outputs": [
    {
     "name": "stdout",
     "output_type": "stream",
     "text": [
      "Linear Kernel SVM Accuracy: 0.9790009130037824\n",
      "Polynomial Kernel SVM Accuracy: 0.9792617712273379\n",
      "RBF Kernel SVM Accuracy: 0.9793922003391157\n",
      "Sigmoid Kernel SVM Accuracy: 0.9774357636624494\n"
     ]
    }
   ],
   "source": [
    "\n",
    "from sklearn.svm import SVC\n",
    "\n",
    "\n",
    "# Initialize SVM classifiers with different kernels\n",
    "svm_linear = SVC(kernel='linear')\n",
    "svm_poly = SVC(kernel='poly', degree=2)  # Polynomial kernel with degree 2\n",
    "svm_rbf = SVC(kernel='rbf')  # Radial basis function (RBF) kernel\n",
    "svm_sigmoid = SVC(kernel='sigmoid')  # Sigmoid kernel\n",
    "\n",
    "# Train the SVM classifiers\n",
    "svm_linear.fit(x_train, y_train)\n",
    "svm_poly.fit(x_train, y_train)\n",
    "svm_rbf.fit(x_train, y_train)\n",
    "svm_sigmoid.fit(x_train, y_train)\n",
    "\n",
    "# Make predictions on the test set for each classifier\n",
    "predictions_linear = svm_linear.predict(x_test.toarray())\n",
    "predictions_poly = svm_poly.predict(x_test.toarray())\n",
    "predictions_rbf = svm_rbf.predict(x_test.toarray())\n",
    "predictions_sigmoid = svm_sigmoid.predict(x_test.toarray())\n",
    "\n",
    "# Calculate accuracy for each classifier\n",
    "accuracy_linear = accuracy_score(y_test, predictions_linear)\n",
    "accuracy_poly = accuracy_score(y_test, predictions_poly)\n",
    "accuracy_rbf = accuracy_score(y_test, predictions_rbf)\n",
    "accuracy_sigmoid = accuracy_score(y_test, predictions_sigmoid)\n",
    "\n",
    "print(\"Linear Kernel SVM Accuracy:\", accuracy_linear)\n",
    "print(\"Polynomial Kernel SVM Accuracy:\", accuracy_poly)\n",
    "print(\"RBF Kernel SVM Accuracy:\", accuracy_rbf)\n",
    "print(\"Sigmoid Kernel SVM Accuracy:\", accuracy_sigmoid)\n"
   ]
  },
  {
   "cell_type": "code",
   "execution_count": 61,
   "id": "afb00828",
   "metadata": {},
   "outputs": [
    {
     "name": "stdout",
     "output_type": "stream",
     "text": [
      "Linear SVM Predictions: [1]\n",
      "Poly SVM Predictions: [1]\n",
      "RBF SVM Predictions: [1]\n",
      "Sigmoid SVM Predictions: [0]\n"
     ]
    }
   ],
   "source": [
    "print(\"Linear SVM Predictions:\", svm_linear.predict(flipkart_review_vector))\n",
    "print(\"Poly SVM Predictions:\", svm_poly.predict(flipkart_review_vector))\n",
    "print(\"RBF SVM Predictions:\", svm_rbf.predict(flipkart_review_vector))\n",
    "print(\"Sigmoid SVM Predictions:\", svm_sigmoid.predict(flipkart_review_vector))"
   ]
  },
  {
   "cell_type": "markdown",
   "id": "b4dbcb43",
   "metadata": {},
   "source": [
    "so linear, polynomia and RBF is working with almost same accuracy. Linear kernel can be choosed "
   ]
  },
  {
   "cell_type": "code",
   "execution_count": 62,
   "id": "0598b9c2",
   "metadata": {},
   "outputs": [
    {
     "data": {
      "image/png": "[encoded data removed]",
      "text/plain": [
       "<Figure size 800x600 with 2 Axes>"
      ]
     },
     "metadata": {},
     "output_type": "display_data"
    }
   ],
   "source": [
    "from sklearn.metrics import confusion_matrix\n",
    "import matplotlib.pyplot as plt\n",
    "import seaborn as sns\n",
    "\n",
    "# Calculate the confusion matrix\n",
    "conf_matrix_svm = confusion_matrix(y_test, predictions_linear)\n",
    "\n",
    "# Plot the confusion matrix\n",
    "plt.figure(figsize=(8, 6))\n",
    "sns.heatmap(conf_matrix_svm, annot=True, fmt='d', cmap='Blues', xticklabels=['Negative', 'Positive'], yticklabels=['Negative', 'Positive'])\n",
    "plt.xlabel('Predicted labels')\n",
    "plt.ylabel('True labels')\n",
    "plt.title('Confusion Matrix')\n",
    "plt.show()\n"
   ]
  },
  {
   "cell_type": "markdown",
   "id": "f5675997",
   "metadata": {},
   "source": [
    "# Decision Tree classifier"
   ]
  },
  {
   "cell_type": "code",
   "execution_count": 63,
   "id": "71f2cf1c",
   "metadata": {},
   "outputs": [
    {
     "data": {
      "text/html": [
       "<style>#sk-container-id-1 {\n",
       "  /* Definition of color scheme common for light and dark mode */\n",
       "  --sklearn-color-text: black;\n",
       "  --sklearn-color-line: gray;\n",
       "  /* Definition of color scheme for unfitted estimators */\n",
       "  --sklearn-color-unfitted-level-0: #fff5e6;\n",
       "  --sklearn-color-unfitted-level-1: #f6e4d2;\n",
       "  --sklearn-color-unfitted-level-2: #ffe0b3;\n",
       "  --sklearn-color-unfitted-level-3: chocolate;\n",
       "  /* Definition of color scheme for fitted estimators */\n",
       "  --sklearn-color-fitted-level-0: #f0f8ff;\n",
       "  --sklearn-color-fitted-level-1: #d4ebff;\n",
       "  --sklearn-color-fitted-level-2: #b3dbfd;\n",
       "  --sklearn-color-fitted-level-3: cornflowerblue;\n",
       "\n",
       "  /* Specific color for light theme */\n",
       "  --sklearn-color-text-on-default-background: var(--sg-text-color, var(--theme-code-foreground, var(--jp-content-font-color1, black)));\n",
       "  --sklearn-color-background: var(--sg-background-color, var(--theme-background, var(--jp-layout-color0, white)));\n",
       "  --sklearn-color-border-box: var(--sg-text-color, var(--theme-code-foreground, var(--jp-content-font-color1, black)));\n",
       "  --sklearn-color-icon: #696969;\n",
       "\n",
       "  @media (prefers-color-scheme: dark) {\n",
       "    /* Redefinition of color scheme for dark theme */\n",
       "    --sklearn-color-text-on-default-background: var(--sg-text-color, var(--theme-code-foreground, var(--jp-content-font-color1, white)));\n",
       "    --sklearn-color-background: var(--sg-background-color, var(--theme-background, var(--jp-layout-color0, #111)));\n",
       "    --sklearn-color-border-box: var(--sg-text-color, var(--theme-code-foreground, var(--jp-content-font-color1, white)));\n",
       "    --sklearn-color-icon: #878787;\n",
       "  }\n",
       "}\n",
       "\n",
       "#sk-container-id-1 {\n",
       "  color: var(--sklearn-color-text);\n",
       "}\n",
       "\n",
       "#sk-container-id-1 pre {\n",
       "  padding: 0;\n",
       "}\n",
       "\n",
       "#sk-container-id-1 input.sk-hidden--visually {\n",
       "  border: 0;\n",
       "  clip: rect(1px 1px 1px 1px);\n",
       "  clip: rect(1px, 1px, 1px, 1px);\n",
       "  height: 1px;\n",
       "  margin: -1px;\n",
       "  overflow: hidden;\n",
       "  padding: 0;\n",
       "  position: absolute;\n",
       "  width: 1px;\n",
       "}\n",
       "\n",
       "#sk-container-id-1 div.sk-dashed-wrapped {\n",
       "  border: 1px dashed var(--sklearn-color-line);\n",
       "  margin: 0 0.4em 0.5em 0.4em;\n",
       "  box-sizing: border-box;\n",
       "  padding-bottom: 0.4em;\n",
       "  background-color: var(--sklearn-color-background);\n",
       "}\n",
       "\n",
       "#sk-container-id-1 div.sk-container {\n",
       "  /* jupyter's `normalize.less` sets `[hidden] { display: none; }`\n",
       "     but bootstrap.min.css set `[hidden] { display: none !important; }`\n",
       "     so we also need the `!important` here to be able to override the\n",
       "     default hidden behavior on the sphinx rendered scikit-learn.org.\n",
       "     See: https://github.com/scikit-learn/scikit-learn/issues/21755 */\n",
       "  display: inline-block !important;\n",
       "  position: relative;\n",
       "}\n",
       "\n",
       "#sk-container-id-1 div.sk-text-repr-fallback {\n",
       "  display: none;\n",
       "}\n",
       "\n",
       "div.sk-parallel-item,\n",
       "div.sk-serial,\n",
       "div.sk-item {\n",
       "  /* draw centered vertical line to link estimators */\n",
       "  background-image: linear-gradient(var(--sklearn-color-text-on-default-background), var(--sklearn-color-text-on-default-background));\n",
       "  background-size: 2px 100%;\n",
       "  background-repeat: no-repeat;\n",
       "  background-position: center center;\n",
       "}\n",
       "\n",
       "/* Parallel-specific style estimator block */\n",
       "\n",
       "#sk-container-id-1 div.sk-parallel-item::after {\n",
       "  content: \"\";\n",
       "  width: 100%;\n",
       "  border-bottom: 2px solid var(--sklearn-color-text-on-default-background);\n",
       "  flex-grow: 1;\n",
       "}\n",
       "\n",
       "#sk-container-id-1 div.sk-parallel {\n",
       "  display: flex;\n",
       "  align-items: stretch;\n",
       "  justify-content: center;\n",
       "  background-color: var(--sklearn-color-background);\n",
       "  position: relative;\n",
       "}\n",
       "\n",
       "#sk-container-id-1 div.sk-parallel-item {\n",
       "  display: flex;\n",
       "  flex-direction: column;\n",
       "}\n",
       "\n",
       "#sk-container-id-1 div.sk-parallel-item:first-child::after {\n",
       "  align-self: flex-end;\n",
       "  width: 50%;\n",
       "}\n",
       "\n",
       "#sk-container-id-1 div.sk-parallel-item:last-child::after {\n",
       "  align-self: flex-start;\n",
       "  width: 50%;\n",
       "}\n",
       "\n",
       "#sk-container-id-1 div.sk-parallel-item:only-child::after {\n",
       "  width: 0;\n",
       "}\n",
       "\n",
       "/* Serial-specific style estimator block */\n",
       "\n",
       "#sk-container-id-1 div.sk-serial {\n",
       "  display: flex;\n",
       "  flex-direction: column;\n",
       "  align-items: center;\n",
       "  background-color: var(--sklearn-color-background);\n",
       "  padding-right: 1em;\n",
       "  padding-left: 1em;\n",
       "}\n",
       "\n",
       "\n",
       "/* Toggleable style: style used for estimator/Pipeline/ColumnTransformer box that is\n",
       "clickable and can be expanded/collapsed.\n",
       "- Pipeline and ColumnTransformer use this feature and define the default style\n",
       "- Estimators will overwrite some part of the style using the `sk-estimator` class\n",
       "*/\n",
       "\n",
       "/* Pipeline and ColumnTransformer style (default) */\n",
       "\n",
       "#sk-container-id-1 div.sk-toggleable {\n",
       "  /* Default theme specific background. It is overwritten whether we have a\n",
       "  specific estimator or a Pipeline/ColumnTransformer */\n",
       "  background-color: var(--sklearn-color-background);\n",
       "}\n",
       "\n",
       "/* Toggleable label */\n",
       "#sk-container-id-1 label.sk-toggleable__label {\n",
       "  cursor: pointer;\n",
       "  display: block;\n",
       "  width: 100%;\n",
       "  margin-bottom: 0;\n",
       "  padding: 0.5em;\n",
       "  box-sizing: border-box;\n",
       "  text-align: center;\n",
       "}\n",
       "\n",
       "#sk-container-id-1 label.sk-toggleable__label-arrow:before {\n",
       "  /* Arrow on the left of the label */\n",
       "  content: \"▸\";\n",
       "  float: left;\n",
       "  margin-right: 0.25em;\n",
       "  color: var(--sklearn-color-icon);\n",
       "}\n",
       "\n",
       "#sk-container-id-1 label.sk-toggleable__label-arrow:hover:before {\n",
       "  color: var(--sklearn-color-text);\n",
       "}\n",
       "\n",
       "/* Toggleable content - dropdown */\n",
       "\n",
       "#sk-container-id-1 div.sk-toggleable__content {\n",
       "  max-height: 0;\n",
       "  max-width: 0;\n",
       "  overflow: hidden;\n",
       "  text-align: left;\n",
       "  /* unfitted */\n",
       "  background-color: var(--sklearn-color-unfitted-level-0);\n",
       "}\n",
       "\n",
       "#sk-container-id-1 div.sk-toggleable__content.fitted {\n",
       "  /* fitted */\n",
       "  background-color: var(--sklearn-color-fitted-level-0);\n",
       "}\n",
       "\n",
       "#sk-container-id-1 div.sk-toggleable__content pre {\n",
       "  margin: 0.2em;\n",
       "  border-radius: 0.25em;\n",
       "  color: var(--sklearn-color-text);\n",
       "  /* unfitted */\n",
       "  background-color: var(--sklearn-color-unfitted-level-0);\n",
       "}\n",
       "\n",
       "#sk-container-id-1 div.sk-toggleable__content.fitted pre {\n",
       "  /* unfitted */\n",
       "  background-color: var(--sklearn-color-fitted-level-0);\n",
       "}\n",
       "\n",
       "#sk-container-id-1 input.sk-toggleable__control:checked~div.sk-toggleable__content {\n",
       "  /* Expand drop-down */\n",
       "  max-height: 200px;\n",
       "  max-width: 100%;\n",
       "  overflow: auto;\n",
       "}\n",
       "\n",
       "#sk-container-id-1 input.sk-toggleable__control:checked~label.sk-toggleable__label-arrow:before {\n",
       "  content: \"▾\";\n",
       "}\n",
       "\n",
       "/* Pipeline/ColumnTransformer-specific style */\n",
       "\n",
       "#sk-container-id-1 div.sk-label input.sk-toggleable__control:checked~label.sk-toggleable__label {\n",
       "  color: var(--sklearn-color-text);\n",
       "  background-color: var(--sklearn-color-unfitted-level-2);\n",
       "}\n",
       "\n",
       "#sk-container-id-1 div.sk-label.fitted input.sk-toggleable__control:checked~label.sk-toggleable__label {\n",
       "  background-color: var(--sklearn-color-fitted-level-2);\n",
       "}\n",
       "\n",
       "/* Estimator-specific style */\n",
       "\n",
       "/* Colorize estimator box */\n",
       "#sk-container-id-1 div.sk-estimator input.sk-toggleable__control:checked~label.sk-toggleable__label {\n",
       "  /* unfitted */\n",
       "  background-color: var(--sklearn-color-unfitted-level-2);\n",
       "}\n",
       "\n",
       "#sk-container-id-1 div.sk-estimator.fitted input.sk-toggleable__control:checked~label.sk-toggleable__label {\n",
       "  /* fitted */\n",
       "  background-color: var(--sklearn-color-fitted-level-2);\n",
       "}\n",
       "\n",
       "#sk-container-id-1 div.sk-label label.sk-toggleable__label,\n",
       "#sk-container-id-1 div.sk-label label {\n",
       "  /* The background is the default theme color */\n",
       "  color: var(--sklearn-color-text-on-default-background);\n",
       "}\n",
       "\n",
       "/* On hover, darken the color of the background */\n",
       "#sk-container-id-1 div.sk-label:hover label.sk-toggleable__label {\n",
       "  color: var(--sklearn-color-text);\n",
       "  background-color: var(--sklearn-color-unfitted-level-2);\n",
       "}\n",
       "\n",
       "/* Label box, darken color on hover, fitted */\n",
       "#sk-container-id-1 div.sk-label.fitted:hover label.sk-toggleable__label.fitted {\n",
       "  color: var(--sklearn-color-text);\n",
       "  background-color: var(--sklearn-color-fitted-level-2);\n",
       "}\n",
       "\n",
       "/* Estimator label */\n",
       "\n",
       "#sk-container-id-1 div.sk-label label {\n",
       "  font-family: monospace;\n",
       "  font-weight: bold;\n",
       "  display: inline-block;\n",
       "  line-height: 1.2em;\n",
       "}\n",
       "\n",
       "#sk-container-id-1 div.sk-label-container {\n",
       "  text-align: center;\n",
       "}\n",
       "\n",
       "/* Estimator-specific */\n",
       "#sk-container-id-1 div.sk-estimator {\n",
       "  font-family: monospace;\n",
       "  border: 1px dotted var(--sklearn-color-border-box);\n",
       "  border-radius: 0.25em;\n",
       "  box-sizing: border-box;\n",
       "  margin-bottom: 0.5em;\n",
       "  /* unfitted */\n",
       "  background-color: var(--sklearn-color-unfitted-level-0);\n",
       "}\n",
       "\n",
       "#sk-container-id-1 div.sk-estimator.fitted {\n",
       "  /* fitted */\n",
       "  background-color: var(--sklearn-color-fitted-level-0);\n",
       "}\n",
       "\n",
       "/* on hover */\n",
       "#sk-container-id-1 div.sk-estimator:hover {\n",
       "  /* unfitted */\n",
       "  background-color: var(--sklearn-color-unfitted-level-2);\n",
       "}\n",
       "\n",
       "#sk-container-id-1 div.sk-estimator.fitted:hover {\n",
       "  /* fitted */\n",
       "  background-color: var(--sklearn-color-fitted-level-2);\n",
       "}\n",
       "\n",
       "/* Specification for estimator info (e.g. \"i\" and \"?\") */\n",
       "\n",
       "/* Common style for \"i\" and \"?\" */\n",
       "\n",
       ".sk-estimator-doc-link,\n",
       "a:link.sk-estimator-doc-link,\n",
       "a:visited.sk-estimator-doc-link {\n",
       "  float: right;\n",
       "  font-size: smaller;\n",
       "  line-height: 1em;\n",
       "  font-family: monospace;\n",
       "  background-color: var(--sklearn-color-background);\n",
       "  border-radius: 1em;\n",
       "  height: 1em;\n",
       "  width: 1em;\n",
       "  text-decoration: none !important;\n",
       "  margin-left: 1ex;\n",
       "  /* unfitted */\n",
       "  border: var(--sklearn-color-unfitted-level-1) 1pt solid;\n",
       "  color: var(--sklearn-color-unfitted-level-1);\n",
       "}\n",
       "\n",
       ".sk-estimator-doc-link.fitted,\n",
       "a:link.sk-estimator-doc-link.fitted,\n",
       "a:visited.sk-estimator-doc-link.fitted {\n",
       "  /* fitted */\n",
       "  border: var(--sklearn-color-fitted-level-1) 1pt solid;\n",
       "  color: var(--sklearn-color-fitted-level-1);\n",
       "}\n",
       "\n",
       "/* On hover */\n",
       "div.sk-estimator:hover .sk-estimator-doc-link:hover,\n",
       ".sk-estimator-doc-link:hover,\n",
       "div.sk-label-container:hover .sk-estimator-doc-link:hover,\n",
       ".sk-estimator-doc-link:hover {\n",
       "  /* unfitted */\n",
       "  background-color: var(--sklearn-color-unfitted-level-3);\n",
       "  color: var(--sklearn-color-background);\n",
       "  text-decoration: none;\n",
       "}\n",
       "\n",
       "div.sk-estimator.fitted:hover .sk-estimator-doc-link.fitted:hover,\n",
       ".sk-estimator-doc-link.fitted:hover,\n",
       "div.sk-label-container:hover .sk-estimator-doc-link.fitted:hover,\n",
       ".sk-estimator-doc-link.fitted:hover {\n",
       "  /* fitted */\n",
       "  background-color: var(--sklearn-color-fitted-level-3);\n",
       "  color: var(--sklearn-color-background);\n",
       "  text-decoration: none;\n",
       "}\n",
       "\n",
       "/* Span, style for the box shown on hovering the info icon */\n",
       ".sk-estimator-doc-link span {\n",
       "  display: none;\n",
       "  z-index: 9999;\n",
       "  position: relative;\n",
       "  font-weight: normal;\n",
       "  right: .2ex;\n",
       "  padding: .5ex;\n",
       "  margin: .5ex;\n",
       "  width: min-content;\n",
       "  min-width: 20ex;\n",
       "  max-width: 50ex;\n",
       "  color: var(--sklearn-color-text);\n",
       "  box-shadow: 2pt 2pt 4pt #999;\n",
       "  /* unfitted */\n",
       "  background: var(--sklearn-color-unfitted-level-0);\n",
       "  border: .5pt solid var(--sklearn-color-unfitted-level-3);\n",
       "}\n",
       "\n",
       ".sk-estimator-doc-link.fitted span {\n",
       "  /* fitted */\n",
       "  background: var(--sklearn-color-fitted-level-0);\n",
       "  border: var(--sklearn-color-fitted-level-3);\n",
       "}\n",
       "\n",
       ".sk-estimator-doc-link:hover span {\n",
       "  display: block;\n",
       "}\n",
       "\n",
       "/* \"?\"-specific style due to the `<a>` HTML tag */\n",
       "\n",
       "#sk-container-id-1 a.estimator_doc_link {\n",
       "  float: right;\n",
       "  font-size: 1rem;\n",
       "  line-height: 1em;\n",
       "  font-family: monospace;\n",
       "  background-color: var(--sklearn-color-background);\n",
       "  border-radius: 1rem;\n",
       "  height: 1rem;\n",
       "  width: 1rem;\n",
       "  text-decoration: none;\n",
       "  /* unfitted */\n",
       "  color: var(--sklearn-color-unfitted-level-1);\n",
       "  border: var(--sklearn-color-unfitted-level-1) 1pt solid;\n",
       "}\n",
       "\n",
       "#sk-container-id-1 a.estimator_doc_link.fitted {\n",
       "  /* fitted */\n",
       "  border: var(--sklearn-color-fitted-level-1) 1pt solid;\n",
       "  color: var(--sklearn-color-fitted-level-1);\n",
       "}\n",
       "\n",
       "/* On hover */\n",
       "#sk-container-id-1 a.estimator_doc_link:hover {\n",
       "  /* unfitted */\n",
       "  background-color: var(--sklearn-color-unfitted-level-3);\n",
       "  color: var(--sklearn-color-background);\n",
       "  text-decoration: none;\n",
       "}\n",
       "\n",
       "#sk-container-id-1 a.estimator_doc_link.fitted:hover {\n",
       "  /* fitted */\n",
       "  background-color: var(--sklearn-color-fitted-level-3);\n",
       "}\n",
       "</style><div id=\"sk-container-id-1\" class=\"sk-top-container\"><div class=\"sk-text-repr-fallback\"><pre>DecisionTreeClassifier()</pre><b>In a Jupyter environment, please rerun this cell to show the HTML representation or trust the notebook. <br />On GitHub, the HTML representation is unable to render, please try loading this page with nbviewer.org.</b></div><div class=\"sk-container\" hidden><div class=\"sk-item\"><div class=\"sk-estimator fitted sk-toggleable\"><input class=\"sk-toggleable__control sk-hidden--visually\" id=\"sk-estimator-id-1\" type=\"checkbox\" checked><label for=\"sk-estimator-id-1\" class=\"sk-toggleable__label fitted sk-toggleable__label-arrow fitted\">&nbsp;&nbsp;DecisionTreeClassifier<a class=\"sk-estimator-doc-link fitted\" rel=\"noreferrer\" target=\"_blank\" href=\"https://scikit-learn.org/1.4/modules/generated/sklearn.tree.DecisionTreeClassifier.html\">?<span>Documentation for DecisionTreeClassifier</span></a><span class=\"sk-estimator-doc-link fitted\">i<span>Fitted</span></span></label><div class=\"sk-toggleable__content fitted\"><pre>DecisionTreeClassifier()</pre></div> </div></div></div></div>"
      ],
      "text/plain": [
       "DecisionTreeClassifier()"
      ]
     },
     "execution_count": 63,
     "metadata": {},
     "output_type": "execute_result"
    }
   ],
   "source": [
    "from sklearn.tree import DecisionTreeClassifier\n",
    "dt = DecisionTreeClassifier()\n",
    "dt.fit(x_train, y_train)\n",
    "\n"
   ]
  },
  {
   "cell_type": "code",
   "execution_count": 64,
   "id": "088b1a82",
   "metadata": {},
   "outputs": [
    {
     "name": "stdout",
     "output_type": "stream",
     "text": [
      "dt Accuracy: 0.9794574148950046\n"
     ]
    }
   ],
   "source": [
    "y_val_pred=dt.predict(x_test)\n",
    "dt_accuracy = accuracy_score(y_test, y_val_pred)\n",
    "print(\"dt Accuracy:\",dt_accuracy)"
   ]
  },
  {
   "cell_type": "code",
   "execution_count": 65,
   "id": "4364b1c5",
   "metadata": {},
   "outputs": [
    {
     "data": {
      "image/png": "[encoded data removed]",
      "text/plain": [
       "<Figure size 800x600 with 2 Axes>"
      ]
     },
     "metadata": {},
     "output_type": "display_data"
    }
   ],
   "source": [
    "from sklearn.metrics import confusion_matrix\n",
    "import matplotlib.pyplot as plt\n",
    "import seaborn as sns\n",
    "\n",
    "# Calculate the confusion matrix\n",
    "conf_matrix_dt = confusion_matrix(y_test, y_val_pred)\n",
    "\n",
    "# Plot the confusion matrix\n",
    "plt.figure(figsize=(8, 6))\n",
    "sns.heatmap(conf_matrix_dt, annot=True, fmt='d', cmap='Blues', xticklabels=['Negative', 'Positive'], yticklabels=['Negative', 'Positive'])\n",
    "plt.xlabel('Predicted labels')\n",
    "plt.ylabel('True labels')\n",
    "plt.title('Confusion Matrix')\n",
    "plt.show()\n"
   ]
  },
  {
   "cell_type": "code",
   "execution_count": 66,
   "id": "54b8b10a",
   "metadata": {},
   "outputs": [
    {
     "name": "stdout",
     "output_type": "stream",
     "text": [
      "decision tree Predictions: [0]\n"
     ]
    }
   ],
   "source": [
    "print(\"decision tree Predictions:\", dt.predict(flipkart_review_vector))"
   ]
  },
  {
   "cell_type": "markdown",
   "id": "5129065c",
   "metadata": {},
   "source": [
    "so the final three classifier for voting is multinomial Naivebayes, linear SVM, and decision tree"
   ]
  },
  {
   "cell_type": "markdown",
   "id": "64edddfa",
   "metadata": {},
   "source": [
    "# Voting ensemble"
   ]
  },
  {
   "cell_type": "code",
   "execution_count": 67,
   "id": "9e734997",
   "metadata": {},
   "outputs": [
    {
     "data": {
      "text/html": [
       "<style>#sk-container-id-2 {\n",
       "  /* Definition of color scheme common for light and dark mode */\n",
       "  --sklearn-color-text: black;\n",
       "  --sklearn-color-line: gray;\n",
       "  /* Definition of color scheme for unfitted estimators */\n",
       "  --sklearn-color-unfitted-level-0: #fff5e6;\n",
       "  --sklearn-color-unfitted-level-1: #f6e4d2;\n",
       "  --sklearn-color-unfitted-level-2: #ffe0b3;\n",
       "  --sklearn-color-unfitted-level-3: chocolate;\n",
       "  /* Definition of color scheme for fitted estimators */\n",
       "  --sklearn-color-fitted-level-0: #f0f8ff;\n",
       "  --sklearn-color-fitted-level-1: #d4ebff;\n",
       "  --sklearn-color-fitted-level-2: #b3dbfd;\n",
       "  --sklearn-color-fitted-level-3: cornflowerblue;\n",
       "\n",
       "  /* Specific color for light theme */\n",
       "  --sklearn-color-text-on-default-background: var(--sg-text-color, var(--theme-code-foreground, var(--jp-content-font-color1, black)));\n",
       "  --sklearn-color-background: var(--sg-background-color, var(--theme-background, var(--jp-layout-color0, white)));\n",
       "  --sklearn-color-border-box: var(--sg-text-color, var(--theme-code-foreground, var(--jp-content-font-color1, black)));\n",
       "  --sklearn-color-icon: #696969;\n",
       "\n",
       "  @media (prefers-color-scheme: dark) {\n",
       "    /* Redefinition of color scheme for dark theme */\n",
       "    --sklearn-color-text-on-default-background: var(--sg-text-color, var(--theme-code-foreground, var(--jp-content-font-color1, white)));\n",
       "    --sklearn-color-background: var(--sg-background-color, var(--theme-background, var(--jp-layout-color0, #111)));\n",
       "    --sklearn-color-border-box: var(--sg-text-color, var(--theme-code-foreground, var(--jp-content-font-color1, white)));\n",
       "    --sklearn-color-icon: #878787;\n",
       "  }\n",
       "}\n",
       "\n",
       "#sk-container-id-2 {\n",
       "  color: var(--sklearn-color-text);\n",
       "}\n",
       "\n",
       "#sk-container-id-2 pre {\n",
       "  padding: 0;\n",
       "}\n",
       "\n",
       "#sk-container-id-2 input.sk-hidden--visually {\n",
       "  border: 0;\n",
       "  clip: rect(1px 1px 1px 1px);\n",
       "  clip: rect(1px, 1px, 1px, 1px);\n",
       "  height: 1px;\n",
       "  margin: -1px;\n",
       "  overflow: hidden;\n",
       "  padding: 0;\n",
       "  position: absolute;\n",
       "  width: 1px;\n",
       "}\n",
       "\n",
       "#sk-container-id-2 div.sk-dashed-wrapped {\n",
       "  border: 1px dashed var(--sklearn-color-line);\n",
       "  margin: 0 0.4em 0.5em 0.4em;\n",
       "  box-sizing: border-box;\n",
       "  padding-bottom: 0.4em;\n",
       "  background-color: var(--sklearn-color-background);\n",
       "}\n",
       "\n",
       "#sk-container-id-2 div.sk-container {\n",
       "  /* jupyter's `normalize.less` sets `[hidden] { display: none; }`\n",
       "     but bootstrap.min.css set `[hidden] { display: none !important; }`\n",
       "     so we also need the `!important` here to be able to override the\n",
       "     default hidden behavior on the sphinx rendered scikit-learn.org.\n",
       "     See: https://github.com/scikit-learn/scikit-learn/issues/21755 */\n",
       "  display: inline-block !important;\n",
       "  position: relative;\n",
       "}\n",
       "\n",
       "#sk-container-id-2 div.sk-text-repr-fallback {\n",
       "  display: none;\n",
       "}\n",
       "\n",
       "div.sk-parallel-item,\n",
       "div.sk-serial,\n",
       "div.sk-item {\n",
       "  /* draw centered vertical line to link estimators */\n",
       "  background-image: linear-gradient(var(--sklearn-color-text-on-default-background), var(--sklearn-color-text-on-default-background));\n",
       "  background-size: 2px 100%;\n",
       "  background-repeat: no-repeat;\n",
       "  background-position: center center;\n",
       "}\n",
       "\n",
       "/* Parallel-specific style estimator block */\n",
       "\n",
       "#sk-container-id-2 div.sk-parallel-item::after {\n",
       "  content: \"\";\n",
       "  width: 100%;\n",
       "  border-bottom: 2px solid var(--sklearn-color-text-on-default-background);\n",
       "  flex-grow: 1;\n",
       "}\n",
       "\n",
       "#sk-container-id-2 div.sk-parallel {\n",
       "  display: flex;\n",
       "  align-items: stretch;\n",
       "  justify-content: center;\n",
       "  background-color: var(--sklearn-color-background);\n",
       "  position: relative;\n",
       "}\n",
       "\n",
       "#sk-container-id-2 div.sk-parallel-item {\n",
       "  display: flex;\n",
       "  flex-direction: column;\n",
       "}\n",
       "\n",
       "#sk-container-id-2 div.sk-parallel-item:first-child::after {\n",
       "  align-self: flex-end;\n",
       "  width: 50%;\n",
       "}\n",
       "\n",
       "#sk-container-id-2 div.sk-parallel-item:last-child::after {\n",
       "  align-self: flex-start;\n",
       "  width: 50%;\n",
       "}\n",
       "\n",
       "#sk-container-id-2 div.sk-parallel-item:only-child::after {\n",
       "  width: 0;\n",
       "}\n",
       "\n",
       "/* Serial-specific style estimator block */\n",
       "\n",
       "#sk-container-id-2 div.sk-serial {\n",
       "  display: flex;\n",
       "  flex-direction: column;\n",
       "  align-items: center;\n",
       "  background-color: var(--sklearn-color-background);\n",
       "  padding-right: 1em;\n",
       "  padding-left: 1em;\n",
       "}\n",
       "\n",
       "\n",
       "/* Toggleable style: style used for estimator/Pipeline/ColumnTransformer box that is\n",
       "clickable and can be expanded/collapsed.\n",
       "- Pipeline and ColumnTransformer use this feature and define the default style\n",
       "- Estimators will overwrite some part of the style using the `sk-estimator` class\n",
       "*/\n",
       "\n",
       "/* Pipeline and ColumnTransformer style (default) */\n",
       "\n",
       "#sk-container-id-2 div.sk-toggleable {\n",
       "  /* Default theme specific background. It is overwritten whether we have a\n",
       "  specific estimator or a Pipeline/ColumnTransformer */\n",
       "  background-color: var(--sklearn-color-background);\n",
       "}\n",
       "\n",
       "/* Toggleable label */\n",
       "#sk-container-id-2 label.sk-toggleable__label {\n",
       "  cursor: pointer;\n",
       "  display: block;\n",
       "  width: 100%;\n",
       "  margin-bottom: 0;\n",
       "  padding: 0.5em;\n",
       "  box-sizing: border-box;\n",
       "  text-align: center;\n",
       "}\n",
       "\n",
       "#sk-container-id-2 label.sk-toggleable__label-arrow:before {\n",
       "  /* Arrow on the left of the label */\n",
       "  content: \"▸\";\n",
       "  float: left;\n",
       "  margin-right: 0.25em;\n",
       "  color: var(--sklearn-color-icon);\n",
       "}\n",
       "\n",
       "#sk-container-id-2 label.sk-toggleable__label-arrow:hover:before {\n",
       "  color: var(--sklearn-color-text);\n",
       "}\n",
       "\n",
       "/* Toggleable content - dropdown */\n",
       "\n",
       "#sk-container-id-2 div.sk-toggleable__content {\n",
       "  max-height: 0;\n",
       "  max-width: 0;\n",
       "  overflow: hidden;\n",
       "  text-align: left;\n",
       "  /* unfitted */\n",
       "  background-color: var(--sklearn-color-unfitted-level-0);\n",
       "}\n",
       "\n",
       "#sk-container-id-2 div.sk-toggleable__content.fitted {\n",
       "  /* fitted */\n",
       "  background-color: var(--sklearn-color-fitted-level-0);\n",
       "}\n",
       "\n",
       "#sk-container-id-2 div.sk-toggleable__content pre {\n",
       "  margin: 0.2em;\n",
       "  border-radius: 0.25em;\n",
       "  color: var(--sklearn-color-text);\n",
       "  /* unfitted */\n",
       "  background-color: var(--sklearn-color-unfitted-level-0);\n",
       "}\n",
       "\n",
       "#sk-container-id-2 div.sk-toggleable__content.fitted pre {\n",
       "  /* unfitted */\n",
       "  background-color: var(--sklearn-color-fitted-level-0);\n",
       "}\n",
       "\n",
       "#sk-container-id-2 input.sk-toggleable__control:checked~div.sk-toggleable__content {\n",
       "  /* Expand drop-down */\n",
       "  max-height: 200px;\n",
       "  max-width: 100%;\n",
       "  overflow: auto;\n",
       "}\n",
       "\n",
       "#sk-container-id-2 input.sk-toggleable__control:checked~label.sk-toggleable__label-arrow:before {\n",
       "  content: \"▾\";\n",
       "}\n",
       "\n",
       "/* Pipeline/ColumnTransformer-specific style */\n",
       "\n",
       "#sk-container-id-2 div.sk-label input.sk-toggleable__control:checked~label.sk-toggleable__label {\n",
       "  color: var(--sklearn-color-text);\n",
       "  background-color: var(--sklearn-color-unfitted-level-2);\n",
       "}\n",
       "\n",
       "#sk-container-id-2 div.sk-label.fitted input.sk-toggleable__control:checked~label.sk-toggleable__label {\n",
       "  background-color: var(--sklearn-color-fitted-level-2);\n",
       "}\n",
       "\n",
       "/* Estimator-specific style */\n",
       "\n",
       "/* Colorize estimator box */\n",
       "#sk-container-id-2 div.sk-estimator input.sk-toggleable__control:checked~label.sk-toggleable__label {\n",
       "  /* unfitted */\n",
       "  background-color: var(--sklearn-color-unfitted-level-2);\n",
       "}\n",
       "\n",
       "#sk-container-id-2 div.sk-estimator.fitted input.sk-toggleable__control:checked~label.sk-toggleable__label {\n",
       "  /* fitted */\n",
       "  background-color: var(--sklearn-color-fitted-level-2);\n",
       "}\n",
       "\n",
       "#sk-container-id-2 div.sk-label label.sk-toggleable__label,\n",
       "#sk-container-id-2 div.sk-label label {\n",
       "  /* The background is the default theme color */\n",
       "  color: var(--sklearn-color-text-on-default-background);\n",
       "}\n",
       "\n",
       "/* On hover, darken the color of the background */\n",
       "#sk-container-id-2 div.sk-label:hover label.sk-toggleable__label {\n",
       "  color: var(--sklearn-color-text);\n",
       "  background-color: var(--sklearn-color-unfitted-level-2);\n",
       "}\n",
       "\n",
       "/* Label box, darken color on hover, fitted */\n",
       "#sk-container-id-2 div.sk-label.fitted:hover label.sk-toggleable__label.fitted {\n",
       "  color: var(--sklearn-color-text);\n",
       "  background-color: var(--sklearn-color-fitted-level-2);\n",
       "}\n",
       "\n",
       "/* Estimator label */\n",
       "\n",
       "#sk-container-id-2 div.sk-label label {\n",
       "  font-family: monospace;\n",
       "  font-weight: bold;\n",
       "  display: inline-block;\n",
       "  line-height: 1.2em;\n",
       "}\n",
       "\n",
       "#sk-container-id-2 div.sk-label-container {\n",
       "  text-align: center;\n",
       "}\n",
       "\n",
       "/* Estimator-specific */\n",
       "#sk-container-id-2 div.sk-estimator {\n",
       "  font-family: monospace;\n",
       "  border: 1px dotted var(--sklearn-color-border-box);\n",
       "  border-radius: 0.25em;\n",
       "  box-sizing: border-box;\n",
       "  margin-bottom: 0.5em;\n",
       "  /* unfitted */\n",
       "  background-color: var(--sklearn-color-unfitted-level-0);\n",
       "}\n",
       "\n",
       "#sk-container-id-2 div.sk-estimator.fitted {\n",
       "  /* fitted */\n",
       "  background-color: var(--sklearn-color-fitted-level-0);\n",
       "}\n",
       "\n",
       "/* on hover */\n",
       "#sk-container-id-2 div.sk-estimator:hover {\n",
       "  /* unfitted */\n",
       "  background-color: var(--sklearn-color-unfitted-level-2);\n",
       "}\n",
       "\n",
       "#sk-container-id-2 div.sk-estimator.fitted:hover {\n",
       "  /* fitted */\n",
       "  background-color: var(--sklearn-color-fitted-level-2);\n",
       "}\n",
       "\n",
       "/* Specification for estimator info (e.g. \"i\" and \"?\") */\n",
       "\n",
       "/* Common style for \"i\" and \"?\" */\n",
       "\n",
       ".sk-estimator-doc-link,\n",
       "a:link.sk-estimator-doc-link,\n",
       "a:visited.sk-estimator-doc-link {\n",
       "  float: right;\n",
       "  font-size: smaller;\n",
       "  line-height: 1em;\n",
       "  font-family: monospace;\n",
       "  background-color: var(--sklearn-color-background);\n",
       "  border-radius: 1em;\n",
       "  height: 1em;\n",
       "  width: 1em;\n",
       "  text-decoration: none !important;\n",
       "  margin-left: 1ex;\n",
       "  /* unfitted */\n",
       "  border: var(--sklearn-color-unfitted-level-1) 1pt solid;\n",
       "  color: var(--sklearn-color-unfitted-level-1);\n",
       "}\n",
       "\n",
       ".sk-estimator-doc-link.fitted,\n",
       "a:link.sk-estimator-doc-link.fitted,\n",
       "a:visited.sk-estimator-doc-link.fitted {\n",
       "  /* fitted */\n",
       "  border: var(--sklearn-color-fitted-level-1) 1pt solid;\n",
       "  color: var(--sklearn-color-fitted-level-1);\n",
       "}\n",
       "\n",
       "/* On hover */\n",
       "div.sk-estimator:hover .sk-estimator-doc-link:hover,\n",
       ".sk-estimator-doc-link:hover,\n",
       "div.sk-label-container:hover .sk-estimator-doc-link:hover,\n",
       ".sk-estimator-doc-link:hover {\n",
       "  /* unfitted */\n",
       "  background-color: var(--sklearn-color-unfitted-level-3);\n",
       "  color: var(--sklearn-color-background);\n",
       "  text-decoration: none;\n",
       "}\n",
       "\n",
       "div.sk-estimator.fitted:hover .sk-estimator-doc-link.fitted:hover,\n",
       ".sk-estimator-doc-link.fitted:hover,\n",
       "div.sk-label-container:hover .sk-estimator-doc-link.fitted:hover,\n",
       ".sk-estimator-doc-link.fitted:hover {\n",
       "  /* fitted */\n",
       "  background-color: var(--sklearn-color-fitted-level-3);\n",
       "  color: var(--sklearn-color-background);\n",
       "  text-decoration: none;\n",
       "}\n",
       "\n",
       "/* Span, style for the box shown on hovering the info icon */\n",
       ".sk-estimator-doc-link span {\n",
       "  display: none;\n",
       "  z-index: 9999;\n",
       "  position: relative;\n",
       "  font-weight: normal;\n",
       "  right: .2ex;\n",
       "  padding: .5ex;\n",
       "  margin: .5ex;\n",
       "  width: min-content;\n",
       "  min-width: 20ex;\n",
       "  max-width: 50ex;\n",
       "  color: var(--sklearn-color-text);\n",
       "  box-shadow: 2pt 2pt 4pt #999;\n",
       "  /* unfitted */\n",
       "  background: var(--sklearn-color-unfitted-level-0);\n",
       "  border: .5pt solid var(--sklearn-color-unfitted-level-3);\n",
       "}\n",
       "\n",
       ".sk-estimator-doc-link.fitted span {\n",
       "  /* fitted */\n",
       "  background: var(--sklearn-color-fitted-level-0);\n",
       "  border: var(--sklearn-color-fitted-level-3);\n",
       "}\n",
       "\n",
       ".sk-estimator-doc-link:hover span {\n",
       "  display: block;\n",
       "}\n",
       "\n",
       "/* \"?\"-specific style due to the `<a>` HTML tag */\n",
       "\n",
       "#sk-container-id-2 a.estimator_doc_link {\n",
       "  float: right;\n",
       "  font-size: 1rem;\n",
       "  line-height: 1em;\n",
       "  font-family: monospace;\n",
       "  background-color: var(--sklearn-color-background);\n",
       "  border-radius: 1rem;\n",
       "  height: 1rem;\n",
       "  width: 1rem;\n",
       "  text-decoration: none;\n",
       "  /* unfitted */\n",
       "  color: var(--sklearn-color-unfitted-level-1);\n",
       "  border: var(--sklearn-color-unfitted-level-1) 1pt solid;\n",
       "}\n",
       "\n",
       "#sk-container-id-2 a.estimator_doc_link.fitted {\n",
       "  /* fitted */\n",
       "  border: var(--sklearn-color-fitted-level-1) 1pt solid;\n",
       "  color: var(--sklearn-color-fitted-level-1);\n",
       "}\n",
       "\n",
       "/* On hover */\n",
       "#sk-container-id-2 a.estimator_doc_link:hover {\n",
       "  /* unfitted */\n",
       "  background-color: var(--sklearn-color-unfitted-level-3);\n",
       "  color: var(--sklearn-color-background);\n",
       "  text-decoration: none;\n",
       "}\n",
       "\n",
       "#sk-container-id-2 a.estimator_doc_link.fitted:hover {\n",
       "  /* fitted */\n",
       "  background-color: var(--sklearn-color-fitted-level-3);\n",
       "}\n",
       "</style><div id=\"sk-container-id-2\" class=\"sk-top-container\"><div class=\"sk-text-repr-fallback\"><pre>VotingClassifier(estimators=[(&#x27;nb&#x27;, MultinomialNB()),\n",
       "                             (&#x27;svm&#x27;, SVC(kernel=&#x27;linear&#x27;)),\n",
       "                             (&#x27;dt&#x27;, DecisionTreeClassifier())])</pre><b>In a Jupyter environment, please rerun this cell to show the HTML representation or trust the notebook. <br />On GitHub, the HTML representation is unable to render, please try loading this page with nbviewer.org.</b></div><div class=\"sk-container\" hidden><div class=\"sk-item sk-dashed-wrapped\"><div class=\"sk-label-container\"><div class=\"sk-label fitted sk-toggleable\"><input class=\"sk-toggleable__control sk-hidden--visually\" id=\"sk-estimator-id-2\" type=\"checkbox\" ><label for=\"sk-estimator-id-2\" class=\"sk-toggleable__label fitted sk-toggleable__label-arrow fitted\">&nbsp;&nbsp;VotingClassifier<a class=\"sk-estimator-doc-link fitted\" rel=\"noreferrer\" target=\"_blank\" href=\"https://scikit-learn.org/1.4/modules/generated/sklearn.ensemble.VotingClassifier.html\">?<span>Documentation for VotingClassifier</span></a><span class=\"sk-estimator-doc-link fitted\">i<span>Fitted</span></span></label><div class=\"sk-toggleable__content fitted\"><pre>VotingClassifier(estimators=[(&#x27;nb&#x27;, MultinomialNB()),\n",
       "                             (&#x27;svm&#x27;, SVC(kernel=&#x27;linear&#x27;)),\n",
       "                             (&#x27;dt&#x27;, DecisionTreeClassifier())])</pre></div> </div></div><div class=\"sk-parallel\"><div class=\"sk-parallel-item\"><div class=\"sk-item\"><div class=\"sk-label-container\"><div class=\"sk-label fitted sk-toggleable\"><label>nb</label></div></div><div class=\"sk-serial\"><div class=\"sk-item\"><div class=\"sk-estimator fitted sk-toggleable\"><input class=\"sk-toggleable__control sk-hidden--visually\" id=\"sk-estimator-id-3\" type=\"checkbox\" ><label for=\"sk-estimator-id-3\" class=\"sk-toggleable__label fitted sk-toggleable__label-arrow fitted\">&nbsp;MultinomialNB<a class=\"sk-estimator-doc-link fitted\" rel=\"noreferrer\" target=\"_blank\" href=\"https://scikit-learn.org/1.4/modules/generated/sklearn.naive_bayes.MultinomialNB.html\">?<span>Documentation for MultinomialNB</span></a></label><div class=\"sk-toggleable__content fitted\"><pre>MultinomialNB()</pre></div> </div></div></div></div></div><div class=\"sk-parallel-item\"><div class=\"sk-item\"><div class=\"sk-label-container\"><div class=\"sk-label fitted sk-toggleable\"><label>svm</label></div></div><div class=\"sk-serial\"><div class=\"sk-item\"><div class=\"sk-estimator fitted sk-toggleable\"><input class=\"sk-toggleable__control sk-hidden--visually\" id=\"sk-estimator-id-4\" type=\"checkbox\" ><label for=\"sk-estimator-id-4\" class=\"sk-toggleable__label fitted sk-toggleable__label-arrow fitted\">&nbsp;SVC<a class=\"sk-estimator-doc-link fitted\" rel=\"noreferrer\" target=\"_blank\" href=\"https://scikit-learn.org/1.4/modules/generated/sklearn.svm.SVC.html\">?<span>Documentation for SVC</span></a></label><div class=\"sk-toggleable__content fitted\"><pre>SVC(kernel=&#x27;linear&#x27;)</pre></div> </div></div></div></div></div><div class=\"sk-parallel-item\"><div class=\"sk-item\"><div class=\"sk-label-container\"><div class=\"sk-label fitted sk-toggleable\"><label>dt</label></div></div><div class=\"sk-serial\"><div class=\"sk-item\"><div class=\"sk-estimator fitted sk-toggleable\"><input class=\"sk-toggleable__control sk-hidden--visually\" id=\"sk-estimator-id-5\" type=\"checkbox\" ><label for=\"sk-estimator-id-5\" class=\"sk-toggleable__label fitted sk-toggleable__label-arrow fitted\">&nbsp;DecisionTreeClassifier<a class=\"sk-estimator-doc-link fitted\" rel=\"noreferrer\" target=\"_blank\" href=\"https://scikit-learn.org/1.4/modules/generated/sklearn.tree.DecisionTreeClassifier.html\">?<span>Documentation for DecisionTreeClassifier</span></a></label><div class=\"sk-toggleable__content fitted\"><pre>DecisionTreeClassifier()</pre></div> </div></div></div></div></div></div></div></div></div>"
      ],
      "text/plain": [
       "VotingClassifier(estimators=[('nb', MultinomialNB()),\n",
       "                             ('svm', SVC(kernel='linear')),\n",
       "                             ('dt', DecisionTreeClassifier())])"
      ]
     },
     "execution_count": 67,
     "metadata": {},
     "output_type": "execute_result"
    }
   ],
   "source": [
    "from sklearn.ensemble import VotingClassifier\n",
    "\n",
    "voting_clf = VotingClassifier(estimators=[('nb', multinomial_nb), ('svm', svm_linear), ('dt', dt)], voting='hard')\n",
    "\n",
    "# Train the voting ensemble\n",
    "voting_clf.fit(x_train, y_train)\n",
    "\n"
   ]
  },
  {
   "cell_type": "code",
   "execution_count": 68,
   "id": "fa23bced",
   "metadata": {},
   "outputs": [
    {
     "name": "stdout",
     "output_type": "stream",
     "text": [
      " Accuracy: 0.9795878440067823\n"
     ]
    }
   ],
   "source": [
    "# Predict on the validation set\n",
    "y_pred_vt = voting_clf.predict(x_test)\n",
    "\n",
    "# Calculate accuracy on the test set\n",
    "vt_accuracy = accuracy_score(y_test, y_pred_vt)\n",
    "print(\" Accuracy:\", vt_accuracy)\n",
    "\n",
    "\n",
    "\n"
   ]
  },
  {
   "cell_type": "code",
   "execution_count": 69,
   "id": "d5a34762",
   "metadata": {},
   "outputs": [
    {
     "name": "stdout",
     "output_type": "stream",
     "text": [
      "voting ensemble  Predictions: [1]\n"
     ]
    }
   ],
   "source": [
    "print(\"voting ensemble  Predictions:\", voting_clf.predict(flipkart_review_vector))"
   ]
  },
  {
   "cell_type": "code",
   "execution_count": 70,
   "id": "0d52db11",
   "metadata": {},
   "outputs": [
    {
     "data": {
      "image/png": "[encoded data removed]",
      "text/plain": [
       "<Figure size 800x600 with 2 Axes>"
      ]
     },
     "metadata": {},
     "output_type": "display_data"
    }
   ],
   "source": [
    "from sklearn.metrics import confusion_matrix\n",
    "import matplotlib.pyplot as plt\n",
    "import seaborn as sns\n",
    "\n",
    "# Calculate the confusion matrix\n",
    "conf_matrix_vt = confusion_matrix(y_test, y_pred_vt)\n",
    "\n",
    "# Plot the confusion matrix\n",
    "plt.figure(figsize=(8, 6))\n",
    "sns.heatmap(conf_matrix_vt, annot=True, fmt='d', cmap='Blues', xticklabels=['Negative', 'Positive'], yticklabels=['Negative', 'Positive'])\n",
    "plt.xlabel('Predicted labels')\n",
    "plt.ylabel('True labels')\n",
    "plt.title('Confusion Matrix')\n",
    "plt.show()\n"
   ]
  },
  {
   "cell_type": "markdown",
   "id": "9f374e5e",
   "metadata": {},
   "source": [
    "# Cross Validation and Model Selection"
   ]
  },
  {
   "cell_type": "code",
   "execution_count": 71,
   "id": "580f1387",
   "metadata": {},
   "outputs": [
    {
     "name": "stdout",
     "output_type": "stream",
     "text": [
      "The cross validation score for model MultinomialNB() is  0.9543257913498614\n",
      "The cross validation score for model SVC(kernel='linear') is  0.9798286094675221\n",
      "The cross validation score for model DecisionTreeClassifier() is  0.9799362185885663\n",
      "The cross validation score for model VotingClassifier(estimators=[('nb', MultinomialNB()),\n",
      "                             ('svm', SVC(kernel='linear')),\n",
      "                             ('dt', DecisionTreeClassifier())]) is  0.9803568631599809\n"
     ]
    }
   ],
   "source": [
    "\n",
    "from sklearn.model_selection import KFold,StratifiedKFold\n",
    "from sklearn.model_selection import cross_val_score\n",
    "# Define the number of folds for cross-validation\n",
    "num_folds = 5\n",
    "\n",
    "# Define the cross-validation method\n",
    "kfold = StratifiedKFold(n_splits=num_folds, shuffle=True, random_state=42)\n",
    "model=[multinomial_nb,svm_linear,dt,voting_clf]\n",
    "# Perform cross-validation\n",
    "for model in model:\n",
    "    cv_results = (cross_val_score(model, x, y, cv=kfold)).mean()\n",
    "    print(f\"The cross validation score for model {model} is \",cv_results)\n",
    "\n"
   ]
  },
  {
   "cell_type": "markdown",
   "id": "255c93e0",
   "metadata": {},
   "source": [
    "Hence the voting ensemble model is giving the best accuracy, voting is selected for further deployment"
   ]
  },
  {
   "cell_type": "markdown",
   "id": "39eb4ca4",
   "metadata": {},
   "source": [
    "# Application demostration"
   ]
  },
  {
   "cell_type": "markdown",
   "id": "1cee94d4",
   "metadata": {},
   "source": [
    "## sample list of review of a product in flipkart "
   ]
  },
  {
   "cell_type": "code",
   "execution_count": 72,
   "id": "aafcef1e",
   "metadata": {},
   "outputs": [],
   "source": [
    "#demo list of review of an product collected from flipkart\n",
    "laptop_reviews_raw= [\n",
    "    \"Amazing product! The quality exceeded my expectations. Super fast delivery by Flipkart as always.\",\n",
    "    \"Not satisfied with the product. It arrived damaged and the customer service was not helpful in resolving the issue.\",\n",
    "    \"Great value for money! The product is exactly as described and works perfectly. Highly recommend.\",\n",
    "    \"Disappointed with the delivery time. Took longer than expected to arrive.\",\n",
    "    \"The product is good but the packaging was not up to the mark. It arrived with some scratches.\",\n",
    "    \"Very happy with my purchase! The product arrived in perfect condition and performs exceptionally well.\",\n",
    "    \"Average product. Nothing special about it. Delivery was prompt though.\",\n",
    "    \"Worst experience ever! Received a completely different product from what was shown on the website.\",\n",
    "    \"Excellent customer service! Had an issue with the product and it was quickly resolved by Flipkart's support team.\",\n",
    "    \"The product is okay but overpriced in my opinion. Found better deals elsewhere.\",\n",
    "    \"Impressed with the quality of the product. It feels sturdy and well-made.\",\n",
    "    \"The product looks good but didn't meet my expectations in terms of performance.\",\n",
    "    \"Great shopping experience! The website is easy to navigate and checkout process is smooth.\",\n",
    "    \"Received the wrong color variant of the product. Disappointed with the mix-up.\",\n",
    "    \"Highly disappointed with the product. It stopped working after just a few uses.\",\n",
    "    \"Good product at a reasonable price. Happy with my purchase.\",\n",
    "    \"The product was delivered on time and in good condition. No complaints.\",\n",
    "    \"Terrible product quality. Broke within a week of use.\",\n",
    "    \"Very satisfied with the purchase. The product exceeded my expectations.\",\n",
    "    \"Average product. Nothing to complain about but nothing exceptional either.\",\n",
    "    \"Love the product! Exactly what I was looking for.\",\n",
    "    \"Received a defective product. Had to go through a hassle to get a replacement.\",\n",
    "    \"The product arrived earlier than expected. Pleasantly surprised by the quick delivery.\",\n",
    "    \"Not happy with the product. It feels cheaply made and flimsy.\",\n",
    "    \"Great product for the price. Works well and looks stylish.\",\n",
    "    \"The product is okay but could be better. Expected more for the price.\",\n",
    "    \"Customer service was very helpful in resolving an issue with my order.\",\n",
    "    \"The product is exactly as described. No surprises.\",\n",
    "    \"Disappointed with the product quality. Doesn't live up to the hype.\",\n",
    "    \"Fast and efficient delivery. Very satisfied with the service.\",\n",
    "    \"The product arrived damaged. Poor packaging.\",\n",
    "    \"Impressed with the durability of the product. It feels robust and well-built.\",\n",
    "    \"Product works great! Very happy with the purchase.\",\n",
    "    \"Not impressed with the customer service. Was left on hold for too long.\",\n",
    "    \"Received the wrong size of the product. Had to return it for a replacement.\",\n",
    "    \"Highly recommend this product. Excellent value for money.\",\n",
    "    \"The product is exactly what I needed. Works perfectly.\",\n",
    "    \"The product looks cheap and feels flimsy. Disappointed with the quality.\",\n",
    "    \"Good product. Does the job well.\",\n",
    "    \"The product arrived with missing parts. Poor quality control.\",\n",
    "    \"Very pleased with the purchase. The product is of high quality.\",\n",
    "    \"The product stopped working after a few days. Very disappointed.\",\n",
    "    \"Received a damaged product. Not happy with the condition it arrived in.\",\n",
    "    \"Excellent product! Highly recommend it to others.\",\n",
    "    \"Average product quality. Expected better for the price.\",\n",
    "    \"The product is smaller than expected. Should have checked the dimensions.\",\n",
    "    \"Fast delivery and excellent packaging. No complaints.\",\n",
    "    \"Not satisfied with the product. It doesn't work as advertised.\",\n",
    "    \"The product is exactly what I was looking for. Very happy with my purchase.\",\n",
    "    \"Received the wrong item. Had to go through the hassle of returning it.\",\n",
    "    \"Love the product! Looks great and works perfectly.\",\n",
    "    \"Not impressed with the build quality of the product. Feels cheap.\",\n",
    "    \"The product is overpriced for what it offers. Expected better value.\",\n",
    "    \"Good product for the price. Does what it's supposed to do.\",\n",
    "    \"Received the product on time. Happy with the service.\",\n",
    "    \"Disappointed with the product. It broke after just a few uses.\",\n",
    "    \"The product is of good quality. No complaints.\",\n",
    "    \"Poor quality product. Wouldn't recommend it to others.\",\n",
    "    \"Happy with the purchase. The product met my expectations.\",\n",
    "    \"The product is as described. No surprises.\",\n",
    "    \"The product arrived damaged. Not impressed with the packaging.\",\n",
    "    \"Very satisfied with the product. It works perfectly.\",\n",
    "    \"Average product quality. Expected better for the price.\",\n",
    "    \"Received the wrong color variant of the product. Disappointed.\",\n",
    "    \"Love the product! Exactly what I was looking for.\",\n",
    "    \"Not happy with the product quality. Feels flimsy.\",\n",
    "    \"The product is okay but could be better. Expected more.\",\n",
    "    \"Great value for money! Highly recommend.\",\n",
    "    \"The product arrived earlier than expected. Very pleased.\",\n",
    "    \"Poor quality product. Doesn't work as advertised.\",\n",
    "    \"Happy with my purchase. No complaints.\",\n",
    "    \"The product is exactly as described. Satisfied with the purchase.\",\n",
    "    \"Received a defective product. Disappointed.\",\n",
    "    \"The product is good for the price. Does the job well.\",\n",
    "    \"Disappointed with the customer service. Wasn't helpful.\",\n",
    "    \"The product arrived damaged. Poor packaging.\",\n",
    "    \"Impressed with the quality of the product. Sturdy and well-made.\",\n",
    "    \"Not satisfied with the product. Didn't meet my expectations.\",\n",
    "    \"Love the product! Works perfectly.\",\n",
    "    \"Received the wrong size of the product. Not happy.\",\n",
    "    \"Happy with the purchase. No issues.\",\n",
    "    \"The product arrived on time and in good condition.\",\n",
    "    \"The product is okay but feels cheaply made.\",\n",
    "    \"Excellent product quality. Very happy with my purchase.\",\n",
    "    \"The product is overpriced for what it offers. Disappointed.\",\n",
    "    \"Fast delivery and good packaging. No complaints.\",\n",
    "    \"Received a damaged product. Not satisfied.\",\n",
    "    \"Very happy with the purchase. Works well.\",\n",
    "    \"Average product. Nothing special about it.\",\n",
    "    \"The product arrived earlier than expected. Pleasantly surprised.\",\n",
    "    \"Not satisfied with the product quality. Feels flimsy.\",\n",
    "    \"Love the product! Highly recommend.\",\n",
    "    \"Received the wrong item. Not happy.\",\n",
    "    \"Happy with the purchase. Good value for money.\",\n",
    "    \"The product is exactly what I needed. Works great.\",\n",
    "    \"Average product quality. Expected better.\",\n",
    "    \"The product is as described. No issues.\",\n",
    "    \"The product arrived damaged. Disappointed.\",\n",
    "    \"Happy with the purchase. No complaints.\",\n",
    "    \"Not satisfied with the product. Would not recommend.\"\n",
    "]\n"
   ]
  },
  {
   "cell_type": "markdown",
   "id": "c932a562",
   "metadata": {},
   "source": [
    "### showing the pie chart and the wordcloud of the review list "
   ]
  },
  {
   "cell_type": "code",
   "execution_count": 73,
   "id": "7aeca82f",
   "metadata": {},
   "outputs": [
    {
     "data": {
      "image/png": "[encoded data removed]",
      "text/plain": [
       "<Figure size 1200x600 with 2 Axes>"
      ]
     },
     "metadata": {},
     "output_type": "display_data"
    }
   ],
   "source": [
    "import pandas as pd\n",
    "\n",
    "# Create a DataFrame from the list of reviews\n",
    "df = pd.DataFrame({'Reviews': laptop_reviews_raw})\n",
    "\n",
    "\n",
    "def preprocess_text(text):\n",
    "    # Lowercase transformation\n",
    "    text = text.lower()\n",
    "    \n",
    "    # Remove punctuation\n",
    "    text = remove_punc(text)\n",
    "    \n",
    "    # Remove stopwords\n",
    "    text = remove_stopwords(text)\n",
    "    \n",
    "    return text\n",
    "\n",
    "# Apply preprocessing function to the \"Reviews\" column\n",
    "df[\"preprocessed_data\"]=df['Reviews'].apply(preprocess_text)\n",
    "\n",
    "# Display the preprocessed DataFrame\n",
    "demo_data_vector=tfidf_vectorizer.transform(df[\"preprocessed_data\"])\n",
    "\n",
    "df[\"label\"]=voting_clf.predict(demo_data_vector)\n",
    "import matplotlib.pyplot as plt\n",
    "from wordcloud import WordCloud\n",
    "\n",
    "# Pie chart for label attribute\n",
    "plt.figure(figsize=(12, 6))\n",
    "\n",
    "# Subplot for the pie chart\n",
    "plt.subplot(1, 2, 1)\n",
    "label_counts = df['label'].value_counts()\n",
    "plt.pie(label_counts, labels=label_counts.index, autopct='%1.1f%%', startangle=140)\n",
    "plt.title('Distribution of Labels')\n",
    "\n",
    "# Word cloud for preprocessed_data attribute\n",
    "plt.subplot(1, 2, 2)\n",
    "text_data = ' '.join(df['preprocessed_data'])\n",
    "wordcloud = WordCloud(width=800, height=400, background_color ='white').generate(text_data)\n",
    "plt.imshow(wordcloud, interpolation='bilinear')\n",
    "plt.title('Word Cloud')\n",
    "\n",
    "plt.tight_layout()\n",
    "plt.show()"
   ]
  },
  {
   "cell_type": "markdown",
   "id": "e6e17171",
   "metadata": {},
   "source": [
    "1: percentage of people who are satisfied with this product                                                                      \n",
    "0: percentage of people who are not satisfied with this product"
   ]
  },
  {
   "cell_type": "markdown",
   "id": "9c975e6b",
   "metadata": {},
   "source": [
    "# Reviews and the corresponding predicted label"
   ]
  },
  {
   "cell_type": "code",
   "execution_count": 74,
   "id": "06747b7f",
   "metadata": {},
   "outputs": [
    {
     "data": {
      "text/html": [
       "<div>\n",
       "<style scoped>\n",
       "    .dataframe tbody tr th:only-of-type {\n",
       "        vertical-align: middle;\n",
       "    }\n",
       "\n",
       "    .dataframe tbody tr th {\n",
       "        vertical-align: top;\n",
       "    }\n",
       "\n",
       "    .dataframe thead th {\n",
       "        text-align: right;\n",
       "    }\n",
       "</style>\n",
       "<table border=\"1\" class=\"dataframe\">\n",
       "  <thead>\n",
       "    <tr style=\"text-align: right;\">\n",
       "      <th></th>\n",
       "      <th>Reviews</th>\n",
       "      <th>label</th>\n",
       "    </tr>\n",
       "  </thead>\n",
       "  <tbody>\n",
       "    <tr>\n",
       "      <th>0</th>\n",
       "      <td>Amazing product! The quality exceeded my expec...</td>\n",
       "      <td>1</td>\n",
       "    </tr>\n",
       "    <tr>\n",
       "      <th>1</th>\n",
       "      <td>Not satisfied with the product. It arrived dam...</td>\n",
       "      <td>0</td>\n",
       "    </tr>\n",
       "    <tr>\n",
       "      <th>2</th>\n",
       "      <td>Great value for money! The product is exactly ...</td>\n",
       "      <td>1</td>\n",
       "    </tr>\n",
       "    <tr>\n",
       "      <th>3</th>\n",
       "      <td>Disappointed with the delivery time. Took long...</td>\n",
       "      <td>0</td>\n",
       "    </tr>\n",
       "    <tr>\n",
       "      <th>4</th>\n",
       "      <td>The product is good but the packaging was not ...</td>\n",
       "      <td>1</td>\n",
       "    </tr>\n",
       "    <tr>\n",
       "      <th>...</th>\n",
       "      <td>...</td>\n",
       "      <td>...</td>\n",
       "    </tr>\n",
       "    <tr>\n",
       "      <th>95</th>\n",
       "      <td>Average product quality. Expected better.</td>\n",
       "      <td>0</td>\n",
       "    </tr>\n",
       "    <tr>\n",
       "      <th>96</th>\n",
       "      <td>The product is as described. No issues.</td>\n",
       "      <td>0</td>\n",
       "    </tr>\n",
       "    <tr>\n",
       "      <th>97</th>\n",
       "      <td>The product arrived damaged. Disappointed.</td>\n",
       "      <td>0</td>\n",
       "    </tr>\n",
       "    <tr>\n",
       "      <th>98</th>\n",
       "      <td>Happy with the purchase. No complaints.</td>\n",
       "      <td>1</td>\n",
       "    </tr>\n",
       "    <tr>\n",
       "      <th>99</th>\n",
       "      <td>Not satisfied with the product. Would not reco...</td>\n",
       "      <td>1</td>\n",
       "    </tr>\n",
       "  </tbody>\n",
       "</table>\n",
       "<p>100 rows × 2 columns</p>\n",
       "</div>"
      ],
      "text/plain": [
       "                                              Reviews  label\n",
       "0   Amazing product! The quality exceeded my expec...      1\n",
       "1   Not satisfied with the product. It arrived dam...      0\n",
       "2   Great value for money! The product is exactly ...      1\n",
       "3   Disappointed with the delivery time. Took long...      0\n",
       "4   The product is good but the packaging was not ...      1\n",
       "..                                                ...    ...\n",
       "95          Average product quality. Expected better.      0\n",
       "96            The product is as described. No issues.      0\n",
       "97         The product arrived damaged. Disappointed.      0\n",
       "98            Happy with the purchase. No complaints.      1\n",
       "99  Not satisfied with the product. Would not reco...      1\n",
       "\n",
       "[100 rows x 2 columns]"
      ]
     },
     "execution_count": 74,
     "metadata": {},
     "output_type": "execute_result"
    }
   ],
   "source": [
    "df[['Reviews','label']]"
   ]
  },
  {
   "cell_type": "markdown",
   "id": "e9c2f99a",
   "metadata": {},
   "source": [
    "# conclusion"
   ]
  },
  {
   "cell_type": "markdown",
   "id": "878b9a0c",
   "metadata": {},
   "source": [
    "Here the project is completed. We have taken a sample list of a product in flipkart. Then we applied our model to that new \n",
    "sample.A pie chart and word cloud has been created. The pie is showing that 37% of the reviewers are sharing positive sentiment about the product and 63% of the reviewers are sharing negative sentiment about that product. Word colud is also showing the words that are mostly used by the reviewers. \n",
    "\n",
    "Most challenging task was to prepare the data for model implementation. Then to sampling the dataset by preserving the proportion of positive and Negative class of The original dataset. But overall project was done in smooth way.\n",
    "\n",
    "\n",
    "\n",
    "\n",
    "\n",
    "\n",
    "\n"
   ]
  },
  {
   "cell_type": "code",
   "execution_count": null,
   "id": "eb8515fb",
   "metadata": {},
   "outputs": [],
   "source": []
  }
 ],
 "metadata": {
  "kernelspec": {
   "display_name": "Python 3 (ipykernel)",
   "language": "python",
   "name": "python3"
  },
  "language_info": {
   "codemirror_mode": {
    "name": "ipython",
    "version": 3
   },
   "file_extension": ".py",
   "mimetype": "text/x-python",
   "name": "python",
   "nbconvert_exporter": "python",
   "pygments_lexer": "ipython3",
   "version": "3.9.13"
  }
 },
 "nbformat": 4,
 "nbformat_minor": 5
}
